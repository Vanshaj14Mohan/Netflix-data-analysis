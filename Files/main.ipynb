{
 "cells": [
  {
   "cell_type": "markdown",
   "id": "973f6bdc",
   "metadata": {},
   "source": [
    "## NETFLIX DATA ANALYSIS"
   ]
  },
  {
   "cell_type": "code",
   "execution_count": 1,
   "id": "f0eb35ee",
   "metadata": {},
   "outputs": [],
   "source": [
    "#Importing Libraries\n",
    "import numpy as np\n",
    "import pandas as pd\n",
    "import plotly.express as px\n",
    "from textblob import TextBlob"
   ]
  },
  {
   "cell_type": "code",
   "execution_count": 2,
   "id": "aa62207d",
   "metadata": {},
   "outputs": [],
   "source": [
    "#Data Loading\n",
    "df = pd.read_csv(r\"E:\\Netflix data analysis\\Files\\netflix_titles.csv\")"
   ]
  },
  {
   "cell_type": "code",
   "execution_count": 3,
   "id": "2c9dd675",
   "metadata": {},
   "outputs": [
    {
     "data": {
      "text/html": [
       "<div>\n",
       "<style scoped>\n",
       "    .dataframe tbody tr th:only-of-type {\n",
       "        vertical-align: middle;\n",
       "    }\n",
       "\n",
       "    .dataframe tbody tr th {\n",
       "        vertical-align: top;\n",
       "    }\n",
       "\n",
       "    .dataframe thead th {\n",
       "        text-align: right;\n",
       "    }\n",
       "</style>\n",
       "<table border=\"1\" class=\"dataframe\">\n",
       "  <thead>\n",
       "    <tr style=\"text-align: right;\">\n",
       "      <th></th>\n",
       "      <th>show_id</th>\n",
       "      <th>type</th>\n",
       "      <th>title</th>\n",
       "      <th>director</th>\n",
       "      <th>cast</th>\n",
       "      <th>country</th>\n",
       "      <th>date_added</th>\n",
       "      <th>release_year</th>\n",
       "      <th>rating</th>\n",
       "      <th>duration</th>\n",
       "      <th>listed_in</th>\n",
       "      <th>description</th>\n",
       "    </tr>\n",
       "  </thead>\n",
       "  <tbody>\n",
       "    <tr>\n",
       "      <th>0</th>\n",
       "      <td>s1</td>\n",
       "      <td>Movie</td>\n",
       "      <td>Dick Johnson Is Dead</td>\n",
       "      <td>Kirsten Johnson</td>\n",
       "      <td>NaN</td>\n",
       "      <td>United States</td>\n",
       "      <td>September 25, 2021</td>\n",
       "      <td>2020</td>\n",
       "      <td>PG-13</td>\n",
       "      <td>90 min</td>\n",
       "      <td>Documentaries</td>\n",
       "      <td>As her father nears the end of his life, filmm...</td>\n",
       "    </tr>\n",
       "    <tr>\n",
       "      <th>1</th>\n",
       "      <td>s2</td>\n",
       "      <td>TV Show</td>\n",
       "      <td>Blood &amp; Water</td>\n",
       "      <td>NaN</td>\n",
       "      <td>Ama Qamata, Khosi Ngema, Gail Mabalane, Thaban...</td>\n",
       "      <td>South Africa</td>\n",
       "      <td>September 24, 2021</td>\n",
       "      <td>2021</td>\n",
       "      <td>TV-MA</td>\n",
       "      <td>2 Seasons</td>\n",
       "      <td>International TV Shows, TV Dramas, TV Mysteries</td>\n",
       "      <td>After crossing paths at a party, a Cape Town t...</td>\n",
       "    </tr>\n",
       "    <tr>\n",
       "      <th>2</th>\n",
       "      <td>s3</td>\n",
       "      <td>TV Show</td>\n",
       "      <td>Ganglands</td>\n",
       "      <td>Julien Leclercq</td>\n",
       "      <td>Sami Bouajila, Tracy Gotoas, Samuel Jouy, Nabi...</td>\n",
       "      <td>NaN</td>\n",
       "      <td>September 24, 2021</td>\n",
       "      <td>2021</td>\n",
       "      <td>TV-MA</td>\n",
       "      <td>1 Season</td>\n",
       "      <td>Crime TV Shows, International TV Shows, TV Act...</td>\n",
       "      <td>To protect his family from a powerful drug lor...</td>\n",
       "    </tr>\n",
       "    <tr>\n",
       "      <th>3</th>\n",
       "      <td>s4</td>\n",
       "      <td>TV Show</td>\n",
       "      <td>Jailbirds New Orleans</td>\n",
       "      <td>NaN</td>\n",
       "      <td>NaN</td>\n",
       "      <td>NaN</td>\n",
       "      <td>September 24, 2021</td>\n",
       "      <td>2021</td>\n",
       "      <td>TV-MA</td>\n",
       "      <td>1 Season</td>\n",
       "      <td>Docuseries, Reality TV</td>\n",
       "      <td>Feuds, flirtations and toilet talk go down amo...</td>\n",
       "    </tr>\n",
       "    <tr>\n",
       "      <th>4</th>\n",
       "      <td>s5</td>\n",
       "      <td>TV Show</td>\n",
       "      <td>Kota Factory</td>\n",
       "      <td>NaN</td>\n",
       "      <td>Mayur More, Jitendra Kumar, Ranjan Raj, Alam K...</td>\n",
       "      <td>India</td>\n",
       "      <td>September 24, 2021</td>\n",
       "      <td>2021</td>\n",
       "      <td>TV-MA</td>\n",
       "      <td>2 Seasons</td>\n",
       "      <td>International TV Shows, Romantic TV Shows, TV ...</td>\n",
       "      <td>In a city of coaching centers known to train I...</td>\n",
       "    </tr>\n",
       "  </tbody>\n",
       "</table>\n",
       "</div>"
      ],
      "text/plain": [
       "  show_id     type                  title         director  \\\n",
       "0      s1    Movie   Dick Johnson Is Dead  Kirsten Johnson   \n",
       "1      s2  TV Show          Blood & Water              NaN   \n",
       "2      s3  TV Show              Ganglands  Julien Leclercq   \n",
       "3      s4  TV Show  Jailbirds New Orleans              NaN   \n",
       "4      s5  TV Show           Kota Factory              NaN   \n",
       "\n",
       "                                                cast        country  \\\n",
       "0                                                NaN  United States   \n",
       "1  Ama Qamata, Khosi Ngema, Gail Mabalane, Thaban...   South Africa   \n",
       "2  Sami Bouajila, Tracy Gotoas, Samuel Jouy, Nabi...            NaN   \n",
       "3                                                NaN            NaN   \n",
       "4  Mayur More, Jitendra Kumar, Ranjan Raj, Alam K...          India   \n",
       "\n",
       "           date_added  release_year rating   duration  \\\n",
       "0  September 25, 2021          2020  PG-13     90 min   \n",
       "1  September 24, 2021          2021  TV-MA  2 Seasons   \n",
       "2  September 24, 2021          2021  TV-MA   1 Season   \n",
       "3  September 24, 2021          2021  TV-MA   1 Season   \n",
       "4  September 24, 2021          2021  TV-MA  2 Seasons   \n",
       "\n",
       "                                           listed_in  \\\n",
       "0                                      Documentaries   \n",
       "1    International TV Shows, TV Dramas, TV Mysteries   \n",
       "2  Crime TV Shows, International TV Shows, TV Act...   \n",
       "3                             Docuseries, Reality TV   \n",
       "4  International TV Shows, Romantic TV Shows, TV ...   \n",
       "\n",
       "                                         description  \n",
       "0  As her father nears the end of his life, filmm...  \n",
       "1  After crossing paths at a party, a Cape Town t...  \n",
       "2  To protect his family from a powerful drug lor...  \n",
       "3  Feuds, flirtations and toilet talk go down amo...  \n",
       "4  In a city of coaching centers known to train I...  "
      ]
     },
     "execution_count": 3,
     "metadata": {},
     "output_type": "execute_result"
    }
   ],
   "source": [
    "df.head() #Gathering top 5 entries on netlfix"
   ]
  },
  {
   "cell_type": "code",
   "execution_count": 4,
   "id": "44202b02",
   "metadata": {},
   "outputs": [
    {
     "data": {
      "text/plain": [
       "(8807, 12)"
      ]
     },
     "execution_count": 4,
     "metadata": {},
     "output_type": "execute_result"
    }
   ],
   "source": [
    "df.shape #Checking Rows and Columns"
   ]
  },
  {
   "cell_type": "code",
   "execution_count": 5,
   "id": "dda09fb2",
   "metadata": {},
   "outputs": [
    {
     "data": {
      "text/plain": [
       "Index(['show_id', 'type', 'title', 'director', 'cast', 'country', 'date_added',\n",
       "       'release_year', 'rating', 'duration', 'listed_in', 'description'],\n",
       "      dtype='object')"
      ]
     },
     "execution_count": 5,
     "metadata": {},
     "output_type": "execute_result"
    }
   ],
   "source": [
    "df.columns #Checking column names"
   ]
  },
  {
   "cell_type": "code",
   "execution_count": 6,
   "id": "85de1ff2",
   "metadata": {},
   "outputs": [
    {
     "name": "stdout",
     "output_type": "stream",
     "text": [
      "      rating  counts\n",
      "0     66 min       1\n",
      "1     74 min       1\n",
      "2     84 min       1\n",
      "3          G      41\n",
      "4      NC-17       3\n",
      "5         NR      80\n",
      "6         PG     287\n",
      "7      PG-13     490\n",
      "8          R     799\n",
      "9      TV-14    2160\n",
      "10      TV-G     220\n",
      "11     TV-MA    3207\n",
      "12     TV-PG     863\n",
      "13      TV-Y     307\n",
      "14     TV-Y7     334\n",
      "15  TV-Y7-FV       6\n",
      "16        UR       3\n"
     ]
    }
   ],
   "source": [
    "#Taking count of ratings available\n",
    "# x = df.groupby([\"rating\"]).size()\n",
    "x = df.groupby([\"rating\"]).size().reset_index(name = \"counts\")\n",
    "print(x)"
   ]
  },
  {
   "cell_type": "markdown",
   "id": "b63c3e78",
   "metadata": {},
   "source": [
    "Content Type Distribution"
   ]
  },
  {
   "cell_type": "code",
   "execution_count": 7,
   "id": "1348a771",
   "metadata": {},
   "outputs": [
    {
     "data": {
      "application/vnd.plotly.v1+json": {
       "config": {
        "plotlyServerURL": "https://plot.ly"
       },
       "data": [
        {
         "hovertemplate": "Type=%{x}<br>Count=%{y}<extra></extra>",
         "legendgroup": "",
         "marker": {
          "color": "#636efa",
          "pattern": {
           "shape": ""
          }
         },
         "name": "",
         "orientation": "v",
         "showlegend": false,
         "textposition": "auto",
         "type": "bar",
         "x": [
          "Movie",
          "TV Show"
         ],
         "xaxis": "x",
         "y": {
          "bdata": "8xd0Cg==",
          "dtype": "i2"
         },
         "yaxis": "y"
        }
       ],
       "layout": {
        "barmode": "relative",
        "legend": {
         "tracegroupgap": 0
        },
        "template": {
         "data": {
          "bar": [
           {
            "error_x": {
             "color": "#2a3f5f"
            },
            "error_y": {
             "color": "#2a3f5f"
            },
            "marker": {
             "line": {
              "color": "#E5ECF6",
              "width": 0.5
             },
             "pattern": {
              "fillmode": "overlay",
              "size": 10,
              "solidity": 0.2
             }
            },
            "type": "bar"
           }
          ],
          "barpolar": [
           {
            "marker": {
             "line": {
              "color": "#E5ECF6",
              "width": 0.5
             },
             "pattern": {
              "fillmode": "overlay",
              "size": 10,
              "solidity": 0.2
             }
            },
            "type": "barpolar"
           }
          ],
          "carpet": [
           {
            "aaxis": {
             "endlinecolor": "#2a3f5f",
             "gridcolor": "white",
             "linecolor": "white",
             "minorgridcolor": "white",
             "startlinecolor": "#2a3f5f"
            },
            "baxis": {
             "endlinecolor": "#2a3f5f",
             "gridcolor": "white",
             "linecolor": "white",
             "minorgridcolor": "white",
             "startlinecolor": "#2a3f5f"
            },
            "type": "carpet"
           }
          ],
          "choropleth": [
           {
            "colorbar": {
             "outlinewidth": 0,
             "ticks": ""
            },
            "type": "choropleth"
           }
          ],
          "contour": [
           {
            "colorbar": {
             "outlinewidth": 0,
             "ticks": ""
            },
            "colorscale": [
             [
              0,
              "#0d0887"
             ],
             [
              0.1111111111111111,
              "#46039f"
             ],
             [
              0.2222222222222222,
              "#7201a8"
             ],
             [
              0.3333333333333333,
              "#9c179e"
             ],
             [
              0.4444444444444444,
              "#bd3786"
             ],
             [
              0.5555555555555556,
              "#d8576b"
             ],
             [
              0.6666666666666666,
              "#ed7953"
             ],
             [
              0.7777777777777778,
              "#fb9f3a"
             ],
             [
              0.8888888888888888,
              "#fdca26"
             ],
             [
              1,
              "#f0f921"
             ]
            ],
            "type": "contour"
           }
          ],
          "contourcarpet": [
           {
            "colorbar": {
             "outlinewidth": 0,
             "ticks": ""
            },
            "type": "contourcarpet"
           }
          ],
          "heatmap": [
           {
            "colorbar": {
             "outlinewidth": 0,
             "ticks": ""
            },
            "colorscale": [
             [
              0,
              "#0d0887"
             ],
             [
              0.1111111111111111,
              "#46039f"
             ],
             [
              0.2222222222222222,
              "#7201a8"
             ],
             [
              0.3333333333333333,
              "#9c179e"
             ],
             [
              0.4444444444444444,
              "#bd3786"
             ],
             [
              0.5555555555555556,
              "#d8576b"
             ],
             [
              0.6666666666666666,
              "#ed7953"
             ],
             [
              0.7777777777777778,
              "#fb9f3a"
             ],
             [
              0.8888888888888888,
              "#fdca26"
             ],
             [
              1,
              "#f0f921"
             ]
            ],
            "type": "heatmap"
           }
          ],
          "histogram": [
           {
            "marker": {
             "pattern": {
              "fillmode": "overlay",
              "size": 10,
              "solidity": 0.2
             }
            },
            "type": "histogram"
           }
          ],
          "histogram2d": [
           {
            "colorbar": {
             "outlinewidth": 0,
             "ticks": ""
            },
            "colorscale": [
             [
              0,
              "#0d0887"
             ],
             [
              0.1111111111111111,
              "#46039f"
             ],
             [
              0.2222222222222222,
              "#7201a8"
             ],
             [
              0.3333333333333333,
              "#9c179e"
             ],
             [
              0.4444444444444444,
              "#bd3786"
             ],
             [
              0.5555555555555556,
              "#d8576b"
             ],
             [
              0.6666666666666666,
              "#ed7953"
             ],
             [
              0.7777777777777778,
              "#fb9f3a"
             ],
             [
              0.8888888888888888,
              "#fdca26"
             ],
             [
              1,
              "#f0f921"
             ]
            ],
            "type": "histogram2d"
           }
          ],
          "histogram2dcontour": [
           {
            "colorbar": {
             "outlinewidth": 0,
             "ticks": ""
            },
            "colorscale": [
             [
              0,
              "#0d0887"
             ],
             [
              0.1111111111111111,
              "#46039f"
             ],
             [
              0.2222222222222222,
              "#7201a8"
             ],
             [
              0.3333333333333333,
              "#9c179e"
             ],
             [
              0.4444444444444444,
              "#bd3786"
             ],
             [
              0.5555555555555556,
              "#d8576b"
             ],
             [
              0.6666666666666666,
              "#ed7953"
             ],
             [
              0.7777777777777778,
              "#fb9f3a"
             ],
             [
              0.8888888888888888,
              "#fdca26"
             ],
             [
              1,
              "#f0f921"
             ]
            ],
            "type": "histogram2dcontour"
           }
          ],
          "mesh3d": [
           {
            "colorbar": {
             "outlinewidth": 0,
             "ticks": ""
            },
            "type": "mesh3d"
           }
          ],
          "parcoords": [
           {
            "line": {
             "colorbar": {
              "outlinewidth": 0,
              "ticks": ""
             }
            },
            "type": "parcoords"
           }
          ],
          "pie": [
           {
            "automargin": true,
            "type": "pie"
           }
          ],
          "scatter": [
           {
            "fillpattern": {
             "fillmode": "overlay",
             "size": 10,
             "solidity": 0.2
            },
            "type": "scatter"
           }
          ],
          "scatter3d": [
           {
            "line": {
             "colorbar": {
              "outlinewidth": 0,
              "ticks": ""
             }
            },
            "marker": {
             "colorbar": {
              "outlinewidth": 0,
              "ticks": ""
             }
            },
            "type": "scatter3d"
           }
          ],
          "scattercarpet": [
           {
            "marker": {
             "colorbar": {
              "outlinewidth": 0,
              "ticks": ""
             }
            },
            "type": "scattercarpet"
           }
          ],
          "scattergeo": [
           {
            "marker": {
             "colorbar": {
              "outlinewidth": 0,
              "ticks": ""
             }
            },
            "type": "scattergeo"
           }
          ],
          "scattergl": [
           {
            "marker": {
             "colorbar": {
              "outlinewidth": 0,
              "ticks": ""
             }
            },
            "type": "scattergl"
           }
          ],
          "scattermap": [
           {
            "marker": {
             "colorbar": {
              "outlinewidth": 0,
              "ticks": ""
             }
            },
            "type": "scattermap"
           }
          ],
          "scattermapbox": [
           {
            "marker": {
             "colorbar": {
              "outlinewidth": 0,
              "ticks": ""
             }
            },
            "type": "scattermapbox"
           }
          ],
          "scatterpolar": [
           {
            "marker": {
             "colorbar": {
              "outlinewidth": 0,
              "ticks": ""
             }
            },
            "type": "scatterpolar"
           }
          ],
          "scatterpolargl": [
           {
            "marker": {
             "colorbar": {
              "outlinewidth": 0,
              "ticks": ""
             }
            },
            "type": "scatterpolargl"
           }
          ],
          "scatterternary": [
           {
            "marker": {
             "colorbar": {
              "outlinewidth": 0,
              "ticks": ""
             }
            },
            "type": "scatterternary"
           }
          ],
          "surface": [
           {
            "colorbar": {
             "outlinewidth": 0,
             "ticks": ""
            },
            "colorscale": [
             [
              0,
              "#0d0887"
             ],
             [
              0.1111111111111111,
              "#46039f"
             ],
             [
              0.2222222222222222,
              "#7201a8"
             ],
             [
              0.3333333333333333,
              "#9c179e"
             ],
             [
              0.4444444444444444,
              "#bd3786"
             ],
             [
              0.5555555555555556,
              "#d8576b"
             ],
             [
              0.6666666666666666,
              "#ed7953"
             ],
             [
              0.7777777777777778,
              "#fb9f3a"
             ],
             [
              0.8888888888888888,
              "#fdca26"
             ],
             [
              1,
              "#f0f921"
             ]
            ],
            "type": "surface"
           }
          ],
          "table": [
           {
            "cells": {
             "fill": {
              "color": "#EBF0F8"
             },
             "line": {
              "color": "white"
             }
            },
            "header": {
             "fill": {
              "color": "#C8D4E3"
             },
             "line": {
              "color": "white"
             }
            },
            "type": "table"
           }
          ]
         },
         "layout": {
          "annotationdefaults": {
           "arrowcolor": "#2a3f5f",
           "arrowhead": 0,
           "arrowwidth": 1
          },
          "autotypenumbers": "strict",
          "coloraxis": {
           "colorbar": {
            "outlinewidth": 0,
            "ticks": ""
           }
          },
          "colorscale": {
           "diverging": [
            [
             0,
             "#8e0152"
            ],
            [
             0.1,
             "#c51b7d"
            ],
            [
             0.2,
             "#de77ae"
            ],
            [
             0.3,
             "#f1b6da"
            ],
            [
             0.4,
             "#fde0ef"
            ],
            [
             0.5,
             "#f7f7f7"
            ],
            [
             0.6,
             "#e6f5d0"
            ],
            [
             0.7,
             "#b8e186"
            ],
            [
             0.8,
             "#7fbc41"
            ],
            [
             0.9,
             "#4d9221"
            ],
            [
             1,
             "#276419"
            ]
           ],
           "sequential": [
            [
             0,
             "#0d0887"
            ],
            [
             0.1111111111111111,
             "#46039f"
            ],
            [
             0.2222222222222222,
             "#7201a8"
            ],
            [
             0.3333333333333333,
             "#9c179e"
            ],
            [
             0.4444444444444444,
             "#bd3786"
            ],
            [
             0.5555555555555556,
             "#d8576b"
            ],
            [
             0.6666666666666666,
             "#ed7953"
            ],
            [
             0.7777777777777778,
             "#fb9f3a"
            ],
            [
             0.8888888888888888,
             "#fdca26"
            ],
            [
             1,
             "#f0f921"
            ]
           ],
           "sequentialminus": [
            [
             0,
             "#0d0887"
            ],
            [
             0.1111111111111111,
             "#46039f"
            ],
            [
             0.2222222222222222,
             "#7201a8"
            ],
            [
             0.3333333333333333,
             "#9c179e"
            ],
            [
             0.4444444444444444,
             "#bd3786"
            ],
            [
             0.5555555555555556,
             "#d8576b"
            ],
            [
             0.6666666666666666,
             "#ed7953"
            ],
            [
             0.7777777777777778,
             "#fb9f3a"
            ],
            [
             0.8888888888888888,
             "#fdca26"
            ],
            [
             1,
             "#f0f921"
            ]
           ]
          },
          "colorway": [
           "#636efa",
           "#EF553B",
           "#00cc96",
           "#ab63fa",
           "#FFA15A",
           "#19d3f3",
           "#FF6692",
           "#B6E880",
           "#FF97FF",
           "#FECB52"
          ],
          "font": {
           "color": "#2a3f5f"
          },
          "geo": {
           "bgcolor": "white",
           "lakecolor": "white",
           "landcolor": "#E5ECF6",
           "showlakes": true,
           "showland": true,
           "subunitcolor": "white"
          },
          "hoverlabel": {
           "align": "left"
          },
          "hovermode": "closest",
          "mapbox": {
           "style": "light"
          },
          "paper_bgcolor": "white",
          "plot_bgcolor": "#E5ECF6",
          "polar": {
           "angularaxis": {
            "gridcolor": "white",
            "linecolor": "white",
            "ticks": ""
           },
           "bgcolor": "#E5ECF6",
           "radialaxis": {
            "gridcolor": "white",
            "linecolor": "white",
            "ticks": ""
           }
          },
          "scene": {
           "xaxis": {
            "backgroundcolor": "#E5ECF6",
            "gridcolor": "white",
            "gridwidth": 2,
            "linecolor": "white",
            "showbackground": true,
            "ticks": "",
            "zerolinecolor": "white"
           },
           "yaxis": {
            "backgroundcolor": "#E5ECF6",
            "gridcolor": "white",
            "gridwidth": 2,
            "linecolor": "white",
            "showbackground": true,
            "ticks": "",
            "zerolinecolor": "white"
           },
           "zaxis": {
            "backgroundcolor": "#E5ECF6",
            "gridcolor": "white",
            "gridwidth": 2,
            "linecolor": "white",
            "showbackground": true,
            "ticks": "",
            "zerolinecolor": "white"
           }
          },
          "shapedefaults": {
           "line": {
            "color": "#2a3f5f"
           }
          },
          "ternary": {
           "aaxis": {
            "gridcolor": "white",
            "linecolor": "white",
            "ticks": ""
           },
           "baxis": {
            "gridcolor": "white",
            "linecolor": "white",
            "ticks": ""
           },
           "bgcolor": "#E5ECF6",
           "caxis": {
            "gridcolor": "white",
            "linecolor": "white",
            "ticks": ""
           }
          },
          "title": {
           "x": 0.05
          },
          "xaxis": {
           "automargin": true,
           "gridcolor": "white",
           "linecolor": "white",
           "ticks": "",
           "title": {
            "standoff": 15
           },
           "zerolinecolor": "white",
           "zerolinewidth": 2
          },
          "yaxis": {
           "automargin": true,
           "gridcolor": "white",
           "linecolor": "white",
           "ticks": "",
           "title": {
            "standoff": 15
           },
           "zerolinecolor": "white",
           "zerolinewidth": 2
          }
         }
        },
        "title": {
         "text": "Content Type Distribution on Netflix"
        },
        "xaxis": {
         "anchor": "y",
         "domain": [
          0,
          1
         ],
         "title": {
          "text": "Type"
         }
        },
        "yaxis": {
         "anchor": "x",
         "domain": [
          0,
          1
         ],
         "title": {
          "text": "Count"
         }
        }
       }
      }
     },
     "metadata": {},
     "output_type": "display_data"
    }
   ],
   "source": [
    "type_counts = df['type'].value_counts().reset_index()\n",
    "type_counts.columns = ['Type', 'Count']\n",
    "fig1 = px.bar(type_counts, x='Type', y='Count', title='Content Type Distribution on Netflix')\n",
    "fig1.show()\n"
   ]
  },
  {
   "cell_type": "markdown",
   "id": "d356d19d",
   "metadata": {},
   "source": [
    "Creating a pie chart based on content rating"
   ]
  },
  {
   "cell_type": "code",
   "execution_count": 8,
   "id": "fe9b211e",
   "metadata": {},
   "outputs": [
    {
     "data": {
      "application/vnd.plotly.v1+json": {
       "config": {
        "plotlyServerURL": "https://plot.ly"
       },
       "data": [
        {
         "domain": {
          "x": [
           0,
           1
          ],
          "y": [
           0,
           1
          ]
         },
         "hovertemplate": "rating=%{label}<br>counts=%{value}<extra></extra>",
         "labels": [
          "66 min",
          "74 min",
          "84 min",
          "G",
          "NC-17",
          "NR",
          "PG",
          "PG-13",
          "R",
          "TV-14",
          "TV-G",
          "TV-MA",
          "TV-PG",
          "TV-Y",
          "TV-Y7",
          "TV-Y7-FV",
          "UR"
         ],
         "legendgroup": "",
         "name": "",
         "showlegend": true,
         "type": "pie",
         "values": {
          "bdata": "AQABAAEAKQADAFAAHwHqAR8DcAjcAIcMXwMzAU4BBgADAA==",
          "dtype": "i2"
         }
        }
       ],
       "layout": {
        "legend": {
         "tracegroupgap": 0
        },
        "template": {
         "data": {
          "bar": [
           {
            "error_x": {
             "color": "#2a3f5f"
            },
            "error_y": {
             "color": "#2a3f5f"
            },
            "marker": {
             "line": {
              "color": "#E5ECF6",
              "width": 0.5
             },
             "pattern": {
              "fillmode": "overlay",
              "size": 10,
              "solidity": 0.2
             }
            },
            "type": "bar"
           }
          ],
          "barpolar": [
           {
            "marker": {
             "line": {
              "color": "#E5ECF6",
              "width": 0.5
             },
             "pattern": {
              "fillmode": "overlay",
              "size": 10,
              "solidity": 0.2
             }
            },
            "type": "barpolar"
           }
          ],
          "carpet": [
           {
            "aaxis": {
             "endlinecolor": "#2a3f5f",
             "gridcolor": "white",
             "linecolor": "white",
             "minorgridcolor": "white",
             "startlinecolor": "#2a3f5f"
            },
            "baxis": {
             "endlinecolor": "#2a3f5f",
             "gridcolor": "white",
             "linecolor": "white",
             "minorgridcolor": "white",
             "startlinecolor": "#2a3f5f"
            },
            "type": "carpet"
           }
          ],
          "choropleth": [
           {
            "colorbar": {
             "outlinewidth": 0,
             "ticks": ""
            },
            "type": "choropleth"
           }
          ],
          "contour": [
           {
            "colorbar": {
             "outlinewidth": 0,
             "ticks": ""
            },
            "colorscale": [
             [
              0,
              "#0d0887"
             ],
             [
              0.1111111111111111,
              "#46039f"
             ],
             [
              0.2222222222222222,
              "#7201a8"
             ],
             [
              0.3333333333333333,
              "#9c179e"
             ],
             [
              0.4444444444444444,
              "#bd3786"
             ],
             [
              0.5555555555555556,
              "#d8576b"
             ],
             [
              0.6666666666666666,
              "#ed7953"
             ],
             [
              0.7777777777777778,
              "#fb9f3a"
             ],
             [
              0.8888888888888888,
              "#fdca26"
             ],
             [
              1,
              "#f0f921"
             ]
            ],
            "type": "contour"
           }
          ],
          "contourcarpet": [
           {
            "colorbar": {
             "outlinewidth": 0,
             "ticks": ""
            },
            "type": "contourcarpet"
           }
          ],
          "heatmap": [
           {
            "colorbar": {
             "outlinewidth": 0,
             "ticks": ""
            },
            "colorscale": [
             [
              0,
              "#0d0887"
             ],
             [
              0.1111111111111111,
              "#46039f"
             ],
             [
              0.2222222222222222,
              "#7201a8"
             ],
             [
              0.3333333333333333,
              "#9c179e"
             ],
             [
              0.4444444444444444,
              "#bd3786"
             ],
             [
              0.5555555555555556,
              "#d8576b"
             ],
             [
              0.6666666666666666,
              "#ed7953"
             ],
             [
              0.7777777777777778,
              "#fb9f3a"
             ],
             [
              0.8888888888888888,
              "#fdca26"
             ],
             [
              1,
              "#f0f921"
             ]
            ],
            "type": "heatmap"
           }
          ],
          "histogram": [
           {
            "marker": {
             "pattern": {
              "fillmode": "overlay",
              "size": 10,
              "solidity": 0.2
             }
            },
            "type": "histogram"
           }
          ],
          "histogram2d": [
           {
            "colorbar": {
             "outlinewidth": 0,
             "ticks": ""
            },
            "colorscale": [
             [
              0,
              "#0d0887"
             ],
             [
              0.1111111111111111,
              "#46039f"
             ],
             [
              0.2222222222222222,
              "#7201a8"
             ],
             [
              0.3333333333333333,
              "#9c179e"
             ],
             [
              0.4444444444444444,
              "#bd3786"
             ],
             [
              0.5555555555555556,
              "#d8576b"
             ],
             [
              0.6666666666666666,
              "#ed7953"
             ],
             [
              0.7777777777777778,
              "#fb9f3a"
             ],
             [
              0.8888888888888888,
              "#fdca26"
             ],
             [
              1,
              "#f0f921"
             ]
            ],
            "type": "histogram2d"
           }
          ],
          "histogram2dcontour": [
           {
            "colorbar": {
             "outlinewidth": 0,
             "ticks": ""
            },
            "colorscale": [
             [
              0,
              "#0d0887"
             ],
             [
              0.1111111111111111,
              "#46039f"
             ],
             [
              0.2222222222222222,
              "#7201a8"
             ],
             [
              0.3333333333333333,
              "#9c179e"
             ],
             [
              0.4444444444444444,
              "#bd3786"
             ],
             [
              0.5555555555555556,
              "#d8576b"
             ],
             [
              0.6666666666666666,
              "#ed7953"
             ],
             [
              0.7777777777777778,
              "#fb9f3a"
             ],
             [
              0.8888888888888888,
              "#fdca26"
             ],
             [
              1,
              "#f0f921"
             ]
            ],
            "type": "histogram2dcontour"
           }
          ],
          "mesh3d": [
           {
            "colorbar": {
             "outlinewidth": 0,
             "ticks": ""
            },
            "type": "mesh3d"
           }
          ],
          "parcoords": [
           {
            "line": {
             "colorbar": {
              "outlinewidth": 0,
              "ticks": ""
             }
            },
            "type": "parcoords"
           }
          ],
          "pie": [
           {
            "automargin": true,
            "type": "pie"
           }
          ],
          "scatter": [
           {
            "fillpattern": {
             "fillmode": "overlay",
             "size": 10,
             "solidity": 0.2
            },
            "type": "scatter"
           }
          ],
          "scatter3d": [
           {
            "line": {
             "colorbar": {
              "outlinewidth": 0,
              "ticks": ""
             }
            },
            "marker": {
             "colorbar": {
              "outlinewidth": 0,
              "ticks": ""
             }
            },
            "type": "scatter3d"
           }
          ],
          "scattercarpet": [
           {
            "marker": {
             "colorbar": {
              "outlinewidth": 0,
              "ticks": ""
             }
            },
            "type": "scattercarpet"
           }
          ],
          "scattergeo": [
           {
            "marker": {
             "colorbar": {
              "outlinewidth": 0,
              "ticks": ""
             }
            },
            "type": "scattergeo"
           }
          ],
          "scattergl": [
           {
            "marker": {
             "colorbar": {
              "outlinewidth": 0,
              "ticks": ""
             }
            },
            "type": "scattergl"
           }
          ],
          "scattermap": [
           {
            "marker": {
             "colorbar": {
              "outlinewidth": 0,
              "ticks": ""
             }
            },
            "type": "scattermap"
           }
          ],
          "scattermapbox": [
           {
            "marker": {
             "colorbar": {
              "outlinewidth": 0,
              "ticks": ""
             }
            },
            "type": "scattermapbox"
           }
          ],
          "scatterpolar": [
           {
            "marker": {
             "colorbar": {
              "outlinewidth": 0,
              "ticks": ""
             }
            },
            "type": "scatterpolar"
           }
          ],
          "scatterpolargl": [
           {
            "marker": {
             "colorbar": {
              "outlinewidth": 0,
              "ticks": ""
             }
            },
            "type": "scatterpolargl"
           }
          ],
          "scatterternary": [
           {
            "marker": {
             "colorbar": {
              "outlinewidth": 0,
              "ticks": ""
             }
            },
            "type": "scatterternary"
           }
          ],
          "surface": [
           {
            "colorbar": {
             "outlinewidth": 0,
             "ticks": ""
            },
            "colorscale": [
             [
              0,
              "#0d0887"
             ],
             [
              0.1111111111111111,
              "#46039f"
             ],
             [
              0.2222222222222222,
              "#7201a8"
             ],
             [
              0.3333333333333333,
              "#9c179e"
             ],
             [
              0.4444444444444444,
              "#bd3786"
             ],
             [
              0.5555555555555556,
              "#d8576b"
             ],
             [
              0.6666666666666666,
              "#ed7953"
             ],
             [
              0.7777777777777778,
              "#fb9f3a"
             ],
             [
              0.8888888888888888,
              "#fdca26"
             ],
             [
              1,
              "#f0f921"
             ]
            ],
            "type": "surface"
           }
          ],
          "table": [
           {
            "cells": {
             "fill": {
              "color": "#EBF0F8"
             },
             "line": {
              "color": "white"
             }
            },
            "header": {
             "fill": {
              "color": "#C8D4E3"
             },
             "line": {
              "color": "white"
             }
            },
            "type": "table"
           }
          ]
         },
         "layout": {
          "annotationdefaults": {
           "arrowcolor": "#2a3f5f",
           "arrowhead": 0,
           "arrowwidth": 1
          },
          "autotypenumbers": "strict",
          "coloraxis": {
           "colorbar": {
            "outlinewidth": 0,
            "ticks": ""
           }
          },
          "colorscale": {
           "diverging": [
            [
             0,
             "#8e0152"
            ],
            [
             0.1,
             "#c51b7d"
            ],
            [
             0.2,
             "#de77ae"
            ],
            [
             0.3,
             "#f1b6da"
            ],
            [
             0.4,
             "#fde0ef"
            ],
            [
             0.5,
             "#f7f7f7"
            ],
            [
             0.6,
             "#e6f5d0"
            ],
            [
             0.7,
             "#b8e186"
            ],
            [
             0.8,
             "#7fbc41"
            ],
            [
             0.9,
             "#4d9221"
            ],
            [
             1,
             "#276419"
            ]
           ],
           "sequential": [
            [
             0,
             "#0d0887"
            ],
            [
             0.1111111111111111,
             "#46039f"
            ],
            [
             0.2222222222222222,
             "#7201a8"
            ],
            [
             0.3333333333333333,
             "#9c179e"
            ],
            [
             0.4444444444444444,
             "#bd3786"
            ],
            [
             0.5555555555555556,
             "#d8576b"
            ],
            [
             0.6666666666666666,
             "#ed7953"
            ],
            [
             0.7777777777777778,
             "#fb9f3a"
            ],
            [
             0.8888888888888888,
             "#fdca26"
            ],
            [
             1,
             "#f0f921"
            ]
           ],
           "sequentialminus": [
            [
             0,
             "#0d0887"
            ],
            [
             0.1111111111111111,
             "#46039f"
            ],
            [
             0.2222222222222222,
             "#7201a8"
            ],
            [
             0.3333333333333333,
             "#9c179e"
            ],
            [
             0.4444444444444444,
             "#bd3786"
            ],
            [
             0.5555555555555556,
             "#d8576b"
            ],
            [
             0.6666666666666666,
             "#ed7953"
            ],
            [
             0.7777777777777778,
             "#fb9f3a"
            ],
            [
             0.8888888888888888,
             "#fdca26"
            ],
            [
             1,
             "#f0f921"
            ]
           ]
          },
          "colorway": [
           "#636efa",
           "#EF553B",
           "#00cc96",
           "#ab63fa",
           "#FFA15A",
           "#19d3f3",
           "#FF6692",
           "#B6E880",
           "#FF97FF",
           "#FECB52"
          ],
          "font": {
           "color": "#2a3f5f"
          },
          "geo": {
           "bgcolor": "white",
           "lakecolor": "white",
           "landcolor": "#E5ECF6",
           "showlakes": true,
           "showland": true,
           "subunitcolor": "white"
          },
          "hoverlabel": {
           "align": "left"
          },
          "hovermode": "closest",
          "mapbox": {
           "style": "light"
          },
          "paper_bgcolor": "white",
          "plot_bgcolor": "#E5ECF6",
          "polar": {
           "angularaxis": {
            "gridcolor": "white",
            "linecolor": "white",
            "ticks": ""
           },
           "bgcolor": "#E5ECF6",
           "radialaxis": {
            "gridcolor": "white",
            "linecolor": "white",
            "ticks": ""
           }
          },
          "scene": {
           "xaxis": {
            "backgroundcolor": "#E5ECF6",
            "gridcolor": "white",
            "gridwidth": 2,
            "linecolor": "white",
            "showbackground": true,
            "ticks": "",
            "zerolinecolor": "white"
           },
           "yaxis": {
            "backgroundcolor": "#E5ECF6",
            "gridcolor": "white",
            "gridwidth": 2,
            "linecolor": "white",
            "showbackground": true,
            "ticks": "",
            "zerolinecolor": "white"
           },
           "zaxis": {
            "backgroundcolor": "#E5ECF6",
            "gridcolor": "white",
            "gridwidth": 2,
            "linecolor": "white",
            "showbackground": true,
            "ticks": "",
            "zerolinecolor": "white"
           }
          },
          "shapedefaults": {
           "line": {
            "color": "#2a3f5f"
           }
          },
          "ternary": {
           "aaxis": {
            "gridcolor": "white",
            "linecolor": "white",
            "ticks": ""
           },
           "baxis": {
            "gridcolor": "white",
            "linecolor": "white",
            "ticks": ""
           },
           "bgcolor": "#E5ECF6",
           "caxis": {
            "gridcolor": "white",
            "linecolor": "white",
            "ticks": ""
           }
          },
          "title": {
           "x": 0.05
          },
          "xaxis": {
           "automargin": true,
           "gridcolor": "white",
           "linecolor": "white",
           "ticks": "",
           "title": {
            "standoff": 15
           },
           "zerolinecolor": "white",
           "zerolinewidth": 2
          },
          "yaxis": {
           "automargin": true,
           "gridcolor": "white",
           "linecolor": "white",
           "ticks": "",
           "title": {
            "standoff": 15
           },
           "zerolinecolor": "white",
           "zerolinewidth": 2
          }
         }
        },
        "title": {
         "text": "Content Rating distribution on Netflix"
        }
       }
      }
     },
     "metadata": {},
     "output_type": "display_data"
    }
   ],
   "source": [
    "pieChart = px.pie(x, values = \"counts\", names = \"rating\", title = \"Content Rating distribution on Netflix\")\n",
    "pieChart.show()"
   ]
  },
  {
   "cell_type": "markdown",
   "id": "99dd0f0d",
   "metadata": {},
   "source": [
    "Gatering Top 5 Directors"
   ]
  },
  {
   "cell_type": "code",
   "execution_count": 9,
   "id": "ebbf43d7",
   "metadata": {},
   "outputs": [
    {
     "data": {
      "text/html": [
       "<div>\n",
       "<style scoped>\n",
       "    .dataframe tbody tr th:only-of-type {\n",
       "        vertical-align: middle;\n",
       "    }\n",
       "\n",
       "    .dataframe tbody tr th {\n",
       "        vertical-align: top;\n",
       "    }\n",
       "\n",
       "    .dataframe thead th {\n",
       "        text-align: right;\n",
       "    }\n",
       "</style>\n",
       "<table border=\"1\" class=\"dataframe\">\n",
       "  <thead>\n",
       "    <tr style=\"text-align: right;\">\n",
       "      <th></th>\n",
       "      <th>show_id</th>\n",
       "      <th>type</th>\n",
       "      <th>title</th>\n",
       "      <th>director</th>\n",
       "      <th>cast</th>\n",
       "      <th>country</th>\n",
       "      <th>date_added</th>\n",
       "      <th>release_year</th>\n",
       "      <th>rating</th>\n",
       "      <th>duration</th>\n",
       "      <th>listed_in</th>\n",
       "      <th>description</th>\n",
       "    </tr>\n",
       "  </thead>\n",
       "  <tbody>\n",
       "    <tr>\n",
       "      <th>0</th>\n",
       "      <td>s1</td>\n",
       "      <td>Movie</td>\n",
       "      <td>Dick Johnson Is Dead</td>\n",
       "      <td>Kirsten Johnson</td>\n",
       "      <td>NaN</td>\n",
       "      <td>United States</td>\n",
       "      <td>September 25, 2021</td>\n",
       "      <td>2020</td>\n",
       "      <td>PG-13</td>\n",
       "      <td>90 min</td>\n",
       "      <td>Documentaries</td>\n",
       "      <td>As her father nears the end of his life, filmm...</td>\n",
       "    </tr>\n",
       "    <tr>\n",
       "      <th>1</th>\n",
       "      <td>s2</td>\n",
       "      <td>TV Show</td>\n",
       "      <td>Blood &amp; Water</td>\n",
       "      <td>Not Specified</td>\n",
       "      <td>Ama Qamata, Khosi Ngema, Gail Mabalane, Thaban...</td>\n",
       "      <td>South Africa</td>\n",
       "      <td>September 24, 2021</td>\n",
       "      <td>2021</td>\n",
       "      <td>TV-MA</td>\n",
       "      <td>2 Seasons</td>\n",
       "      <td>International TV Shows, TV Dramas, TV Mysteries</td>\n",
       "      <td>After crossing paths at a party, a Cape Town t...</td>\n",
       "    </tr>\n",
       "    <tr>\n",
       "      <th>2</th>\n",
       "      <td>s3</td>\n",
       "      <td>TV Show</td>\n",
       "      <td>Ganglands</td>\n",
       "      <td>Julien Leclercq</td>\n",
       "      <td>Sami Bouajila, Tracy Gotoas, Samuel Jouy, Nabi...</td>\n",
       "      <td>NaN</td>\n",
       "      <td>September 24, 2021</td>\n",
       "      <td>2021</td>\n",
       "      <td>TV-MA</td>\n",
       "      <td>1 Season</td>\n",
       "      <td>Crime TV Shows, International TV Shows, TV Act...</td>\n",
       "      <td>To protect his family from a powerful drug lor...</td>\n",
       "    </tr>\n",
       "    <tr>\n",
       "      <th>3</th>\n",
       "      <td>s4</td>\n",
       "      <td>TV Show</td>\n",
       "      <td>Jailbirds New Orleans</td>\n",
       "      <td>Not Specified</td>\n",
       "      <td>NaN</td>\n",
       "      <td>NaN</td>\n",
       "      <td>September 24, 2021</td>\n",
       "      <td>2021</td>\n",
       "      <td>TV-MA</td>\n",
       "      <td>1 Season</td>\n",
       "      <td>Docuseries, Reality TV</td>\n",
       "      <td>Feuds, flirtations and toilet talk go down amo...</td>\n",
       "    </tr>\n",
       "    <tr>\n",
       "      <th>4</th>\n",
       "      <td>s5</td>\n",
       "      <td>TV Show</td>\n",
       "      <td>Kota Factory</td>\n",
       "      <td>Not Specified</td>\n",
       "      <td>Mayur More, Jitendra Kumar, Ranjan Raj, Alam K...</td>\n",
       "      <td>India</td>\n",
       "      <td>September 24, 2021</td>\n",
       "      <td>2021</td>\n",
       "      <td>TV-MA</td>\n",
       "      <td>2 Seasons</td>\n",
       "      <td>International TV Shows, Romantic TV Shows, TV ...</td>\n",
       "      <td>In a city of coaching centers known to train I...</td>\n",
       "    </tr>\n",
       "  </tbody>\n",
       "</table>\n",
       "</div>"
      ],
      "text/plain": [
       "  show_id     type                  title         director  \\\n",
       "0      s1    Movie   Dick Johnson Is Dead  Kirsten Johnson   \n",
       "1      s2  TV Show          Blood & Water    Not Specified   \n",
       "2      s3  TV Show              Ganglands  Julien Leclercq   \n",
       "3      s4  TV Show  Jailbirds New Orleans    Not Specified   \n",
       "4      s5  TV Show           Kota Factory    Not Specified   \n",
       "\n",
       "                                                cast        country  \\\n",
       "0                                                NaN  United States   \n",
       "1  Ama Qamata, Khosi Ngema, Gail Mabalane, Thaban...   South Africa   \n",
       "2  Sami Bouajila, Tracy Gotoas, Samuel Jouy, Nabi...            NaN   \n",
       "3                                                NaN            NaN   \n",
       "4  Mayur More, Jitendra Kumar, Ranjan Raj, Alam K...          India   \n",
       "\n",
       "           date_added  release_year rating   duration  \\\n",
       "0  September 25, 2021          2020  PG-13     90 min   \n",
       "1  September 24, 2021          2021  TV-MA  2 Seasons   \n",
       "2  September 24, 2021          2021  TV-MA   1 Season   \n",
       "3  September 24, 2021          2021  TV-MA   1 Season   \n",
       "4  September 24, 2021          2021  TV-MA  2 Seasons   \n",
       "\n",
       "                                           listed_in  \\\n",
       "0                                      Documentaries   \n",
       "1    International TV Shows, TV Dramas, TV Mysteries   \n",
       "2  Crime TV Shows, International TV Shows, TV Act...   \n",
       "3                             Docuseries, Reality TV   \n",
       "4  International TV Shows, Romantic TV Shows, TV ...   \n",
       "\n",
       "                                         description  \n",
       "0  As her father nears the end of his life, filmm...  \n",
       "1  After crossing paths at a party, a Cape Town t...  \n",
       "2  To protect his family from a powerful drug lor...  \n",
       "3  Feuds, flirtations and toilet talk go down amo...  \n",
       "4  In a city of coaching centers known to train I...  "
      ]
     },
     "execution_count": 9,
     "metadata": {},
     "output_type": "execute_result"
    }
   ],
   "source": [
    "#Filling NAN values\n",
    "df[\"director\"] = df[\"director\"].fillna(\"Not Specified\")\n",
    "df.head()"
   ]
  },
  {
   "cell_type": "code",
   "execution_count": 10,
   "id": "c719f3f8",
   "metadata": {},
   "outputs": [
    {
     "name": "stdout",
     "output_type": "stream",
     "text": [
      "Empty DataFrame\n",
      "Columns: []\n",
      "Index: []\n"
     ]
    }
   ],
   "source": [
    "director_list = pd.DataFrame()\n",
    "print(director_list)"
   ]
  },
  {
   "cell_type": "code",
   "execution_count": 11,
   "id": "e3b946c1",
   "metadata": {},
   "outputs": [
    {
     "name": "stdout",
     "output_type": "stream",
     "text": [
      "0     0    Kirsten Johnson\n",
      "1     0      Not Specified\n",
      "2     0    Julien Leclercq\n",
      "3     0      Not Specified\n",
      "4     0      Not Specified\n",
      "                ...       \n",
      "8802  0      David Fincher\n",
      "8803  0      Not Specified\n",
      "8804  0    Ruben Fleischer\n",
      "8805  0       Peter Hewitt\n",
      "8806  0        Mozez Singh\n",
      "Length: 9612, dtype: object\n"
     ]
    }
   ],
   "source": [
    "director_list = df[\"director\"].str.split(',', expand = True).stack()\n",
    "print(director_list)"
   ]
  },
  {
   "cell_type": "code",
   "execution_count": 12,
   "id": "81fcb503",
   "metadata": {},
   "outputs": [
    {
     "name": "stdout",
     "output_type": "stream",
     "text": [
      "                      0\n",
      "0    0  Kirsten Johnson\n",
      "1    0    Not Specified\n",
      "2    0  Julien Leclercq\n",
      "3    0    Not Specified\n",
      "4    0    Not Specified\n",
      "...                 ...\n",
      "8802 0    David Fincher\n",
      "8803 0    Not Specified\n",
      "8804 0  Ruben Fleischer\n",
      "8805 0     Peter Hewitt\n",
      "8806 0      Mozez Singh\n",
      "\n",
      "[9612 rows x 1 columns]\n"
     ]
    }
   ],
   "source": [
    "director_list = director_list.to_frame()\n",
    "print(director_list)"
   ]
  },
  {
   "cell_type": "code",
   "execution_count": 13,
   "id": "d44edbb0",
   "metadata": {},
   "outputs": [
    {
     "name": "stdout",
     "output_type": "stream",
     "text": [
      "               Director\n",
      "0    0  Kirsten Johnson\n",
      "1    0    Not Specified\n",
      "2    0  Julien Leclercq\n",
      "3    0    Not Specified\n",
      "4    0    Not Specified\n",
      "...                 ...\n",
      "8802 0    David Fincher\n",
      "8803 0    Not Specified\n",
      "8804 0  Ruben Fleischer\n",
      "8805 0     Peter Hewitt\n",
      "8806 0      Mozez Singh\n",
      "\n",
      "[9612 rows x 1 columns]\n"
     ]
    }
   ],
   "source": [
    "director_list.columns = [\"Director\"]\n",
    "print(director_list)"
   ]
  },
  {
   "cell_type": "code",
   "execution_count": 14,
   "id": "da4707cf",
   "metadata": {},
   "outputs": [
    {
     "name": "stdout",
     "output_type": "stream",
     "text": [
      "                       Director  Total Count\n",
      "0                Aaron Moorhead            2\n",
      "1                   Aaron Woolf            1\n",
      "2      Abbas Alibhai Burmawalla            1\n",
      "3              Abdullah Al Noor            1\n",
      "4           Abhinav Shiv Tiwari            1\n",
      "...                         ...          ...\n",
      "5116                Çagan Irmak            1\n",
      "5117           Ísold Uggadóttir            1\n",
      "5118        Óskar Thór Axelsson            1\n",
      "5119           Ömer Faruk Sorak            2\n",
      "5120               Şenol Sönmez            2\n",
      "\n",
      "[5121 rows x 2 columns]\n"
     ]
    }
   ],
   "source": [
    "directors = director_list.groupby([\"Director\"]).size().reset_index(name = \"Total Count\")\n",
    "print(directors)"
   ]
  },
  {
   "cell_type": "code",
   "execution_count": 15,
   "id": "6e5f9e20",
   "metadata": {},
   "outputs": [
    {
     "name": "stdout",
     "output_type": "stream",
     "text": [
      "                       Director  Total Count\n",
      "0                Aaron Moorhead            2\n",
      "1                   Aaron Woolf            1\n",
      "2      Abbas Alibhai Burmawalla            1\n",
      "3              Abdullah Al Noor            1\n",
      "4           Abhinav Shiv Tiwari            1\n",
      "...                         ...          ...\n",
      "5116                Çagan Irmak            1\n",
      "5117           Ísold Uggadóttir            1\n",
      "5118        Óskar Thór Axelsson            1\n",
      "5119           Ömer Faruk Sorak            2\n",
      "5120               Şenol Sönmez            2\n",
      "\n",
      "[5120 rows x 2 columns]\n"
     ]
    }
   ],
   "source": [
    "#Removing not specified director\n",
    "directors = directors[directors.Director != \"Not Specified\"]\n",
    "print(directors)"
   ]
  },
  {
   "cell_type": "code",
   "execution_count": 16,
   "id": "4c265107",
   "metadata": {},
   "outputs": [
    {
     "name": "stdout",
     "output_type": "stream",
     "text": [
      "                 Director  Total Count\n",
      "4021        Rajiv Chilaka           22\n",
      "4068          Raúl Campos           18\n",
      "261             Jan Suter           18\n",
      "3235         Marcus Raboy           16\n",
      "4652          Suhas Kadav           16\n",
      "...                   ...          ...\n",
      "5116          Çagan Irmak            1\n",
      "5117     Ísold Uggadóttir            1\n",
      "5118  Óskar Thór Axelsson            1\n",
      "2535           Jesse Moss            1\n",
      "4480         Shazia Javed            1\n",
      "\n",
      "[5120 rows x 2 columns]\n"
     ]
    }
   ],
   "source": [
    "#Sorting it in descending manner\n",
    "directors = directors.sort_values(by=[\"Total Count\"], ascending=False)\n",
    "print(directors)"
   ]
  },
  {
   "cell_type": "code",
   "execution_count": 17,
   "id": "e0f9c78f",
   "metadata": {},
   "outputs": [
    {
     "name": "stdout",
     "output_type": "stream",
     "text": [
      "           Director  Total Count\n",
      "4021  Rajiv Chilaka           22\n",
      "4068    Raúl Campos           18\n",
      "261       Jan Suter           18\n",
      "3235   Marcus Raboy           16\n",
      "4652    Suhas Kadav           16\n"
     ]
    }
   ],
   "source": [
    "#Getting top 5 directors\n",
    "top5dir = directors.head()\n",
    "print(top5dir)"
   ]
  },
  {
   "cell_type": "code",
   "execution_count": 18,
   "id": "a57fce82",
   "metadata": {},
   "outputs": [
    {
     "data": {
      "application/vnd.plotly.v1+json": {
       "config": {
        "plotlyServerURL": "https://plot.ly"
       },
       "data": [
        {
         "hovertemplate": "Total Count=%{x}<br>Director=%{y}<extra></extra>",
         "legendgroup": "",
         "marker": {
          "color": "#636efa",
          "pattern": {
           "shape": ""
          }
         },
         "name": "",
         "orientation": "h",
         "showlegend": false,
         "textposition": "auto",
         "type": "bar",
         "x": {
          "bdata": "EBASEhY=",
          "dtype": "i1"
         },
         "xaxis": "x",
         "y": [
          "Marcus Raboy",
          "Suhas Kadav",
          " Jan Suter",
          "Raúl Campos",
          "Rajiv Chilaka"
         ],
         "yaxis": "y"
        }
       ],
       "layout": {
        "barmode": "relative",
        "legend": {
         "tracegroupgap": 0
        },
        "template": {
         "data": {
          "bar": [
           {
            "error_x": {
             "color": "#2a3f5f"
            },
            "error_y": {
             "color": "#2a3f5f"
            },
            "marker": {
             "line": {
              "color": "#E5ECF6",
              "width": 0.5
             },
             "pattern": {
              "fillmode": "overlay",
              "size": 10,
              "solidity": 0.2
             }
            },
            "type": "bar"
           }
          ],
          "barpolar": [
           {
            "marker": {
             "line": {
              "color": "#E5ECF6",
              "width": 0.5
             },
             "pattern": {
              "fillmode": "overlay",
              "size": 10,
              "solidity": 0.2
             }
            },
            "type": "barpolar"
           }
          ],
          "carpet": [
           {
            "aaxis": {
             "endlinecolor": "#2a3f5f",
             "gridcolor": "white",
             "linecolor": "white",
             "minorgridcolor": "white",
             "startlinecolor": "#2a3f5f"
            },
            "baxis": {
             "endlinecolor": "#2a3f5f",
             "gridcolor": "white",
             "linecolor": "white",
             "minorgridcolor": "white",
             "startlinecolor": "#2a3f5f"
            },
            "type": "carpet"
           }
          ],
          "choropleth": [
           {
            "colorbar": {
             "outlinewidth": 0,
             "ticks": ""
            },
            "type": "choropleth"
           }
          ],
          "contour": [
           {
            "colorbar": {
             "outlinewidth": 0,
             "ticks": ""
            },
            "colorscale": [
             [
              0,
              "#0d0887"
             ],
             [
              0.1111111111111111,
              "#46039f"
             ],
             [
              0.2222222222222222,
              "#7201a8"
             ],
             [
              0.3333333333333333,
              "#9c179e"
             ],
             [
              0.4444444444444444,
              "#bd3786"
             ],
             [
              0.5555555555555556,
              "#d8576b"
             ],
             [
              0.6666666666666666,
              "#ed7953"
             ],
             [
              0.7777777777777778,
              "#fb9f3a"
             ],
             [
              0.8888888888888888,
              "#fdca26"
             ],
             [
              1,
              "#f0f921"
             ]
            ],
            "type": "contour"
           }
          ],
          "contourcarpet": [
           {
            "colorbar": {
             "outlinewidth": 0,
             "ticks": ""
            },
            "type": "contourcarpet"
           }
          ],
          "heatmap": [
           {
            "colorbar": {
             "outlinewidth": 0,
             "ticks": ""
            },
            "colorscale": [
             [
              0,
              "#0d0887"
             ],
             [
              0.1111111111111111,
              "#46039f"
             ],
             [
              0.2222222222222222,
              "#7201a8"
             ],
             [
              0.3333333333333333,
              "#9c179e"
             ],
             [
              0.4444444444444444,
              "#bd3786"
             ],
             [
              0.5555555555555556,
              "#d8576b"
             ],
             [
              0.6666666666666666,
              "#ed7953"
             ],
             [
              0.7777777777777778,
              "#fb9f3a"
             ],
             [
              0.8888888888888888,
              "#fdca26"
             ],
             [
              1,
              "#f0f921"
             ]
            ],
            "type": "heatmap"
           }
          ],
          "histogram": [
           {
            "marker": {
             "pattern": {
              "fillmode": "overlay",
              "size": 10,
              "solidity": 0.2
             }
            },
            "type": "histogram"
           }
          ],
          "histogram2d": [
           {
            "colorbar": {
             "outlinewidth": 0,
             "ticks": ""
            },
            "colorscale": [
             [
              0,
              "#0d0887"
             ],
             [
              0.1111111111111111,
              "#46039f"
             ],
             [
              0.2222222222222222,
              "#7201a8"
             ],
             [
              0.3333333333333333,
              "#9c179e"
             ],
             [
              0.4444444444444444,
              "#bd3786"
             ],
             [
              0.5555555555555556,
              "#d8576b"
             ],
             [
              0.6666666666666666,
              "#ed7953"
             ],
             [
              0.7777777777777778,
              "#fb9f3a"
             ],
             [
              0.8888888888888888,
              "#fdca26"
             ],
             [
              1,
              "#f0f921"
             ]
            ],
            "type": "histogram2d"
           }
          ],
          "histogram2dcontour": [
           {
            "colorbar": {
             "outlinewidth": 0,
             "ticks": ""
            },
            "colorscale": [
             [
              0,
              "#0d0887"
             ],
             [
              0.1111111111111111,
              "#46039f"
             ],
             [
              0.2222222222222222,
              "#7201a8"
             ],
             [
              0.3333333333333333,
              "#9c179e"
             ],
             [
              0.4444444444444444,
              "#bd3786"
             ],
             [
              0.5555555555555556,
              "#d8576b"
             ],
             [
              0.6666666666666666,
              "#ed7953"
             ],
             [
              0.7777777777777778,
              "#fb9f3a"
             ],
             [
              0.8888888888888888,
              "#fdca26"
             ],
             [
              1,
              "#f0f921"
             ]
            ],
            "type": "histogram2dcontour"
           }
          ],
          "mesh3d": [
           {
            "colorbar": {
             "outlinewidth": 0,
             "ticks": ""
            },
            "type": "mesh3d"
           }
          ],
          "parcoords": [
           {
            "line": {
             "colorbar": {
              "outlinewidth": 0,
              "ticks": ""
             }
            },
            "type": "parcoords"
           }
          ],
          "pie": [
           {
            "automargin": true,
            "type": "pie"
           }
          ],
          "scatter": [
           {
            "fillpattern": {
             "fillmode": "overlay",
             "size": 10,
             "solidity": 0.2
            },
            "type": "scatter"
           }
          ],
          "scatter3d": [
           {
            "line": {
             "colorbar": {
              "outlinewidth": 0,
              "ticks": ""
             }
            },
            "marker": {
             "colorbar": {
              "outlinewidth": 0,
              "ticks": ""
             }
            },
            "type": "scatter3d"
           }
          ],
          "scattercarpet": [
           {
            "marker": {
             "colorbar": {
              "outlinewidth": 0,
              "ticks": ""
             }
            },
            "type": "scattercarpet"
           }
          ],
          "scattergeo": [
           {
            "marker": {
             "colorbar": {
              "outlinewidth": 0,
              "ticks": ""
             }
            },
            "type": "scattergeo"
           }
          ],
          "scattergl": [
           {
            "marker": {
             "colorbar": {
              "outlinewidth": 0,
              "ticks": ""
             }
            },
            "type": "scattergl"
           }
          ],
          "scattermap": [
           {
            "marker": {
             "colorbar": {
              "outlinewidth": 0,
              "ticks": ""
             }
            },
            "type": "scattermap"
           }
          ],
          "scattermapbox": [
           {
            "marker": {
             "colorbar": {
              "outlinewidth": 0,
              "ticks": ""
             }
            },
            "type": "scattermapbox"
           }
          ],
          "scatterpolar": [
           {
            "marker": {
             "colorbar": {
              "outlinewidth": 0,
              "ticks": ""
             }
            },
            "type": "scatterpolar"
           }
          ],
          "scatterpolargl": [
           {
            "marker": {
             "colorbar": {
              "outlinewidth": 0,
              "ticks": ""
             }
            },
            "type": "scatterpolargl"
           }
          ],
          "scatterternary": [
           {
            "marker": {
             "colorbar": {
              "outlinewidth": 0,
              "ticks": ""
             }
            },
            "type": "scatterternary"
           }
          ],
          "surface": [
           {
            "colorbar": {
             "outlinewidth": 0,
             "ticks": ""
            },
            "colorscale": [
             [
              0,
              "#0d0887"
             ],
             [
              0.1111111111111111,
              "#46039f"
             ],
             [
              0.2222222222222222,
              "#7201a8"
             ],
             [
              0.3333333333333333,
              "#9c179e"
             ],
             [
              0.4444444444444444,
              "#bd3786"
             ],
             [
              0.5555555555555556,
              "#d8576b"
             ],
             [
              0.6666666666666666,
              "#ed7953"
             ],
             [
              0.7777777777777778,
              "#fb9f3a"
             ],
             [
              0.8888888888888888,
              "#fdca26"
             ],
             [
              1,
              "#f0f921"
             ]
            ],
            "type": "surface"
           }
          ],
          "table": [
           {
            "cells": {
             "fill": {
              "color": "#EBF0F8"
             },
             "line": {
              "color": "white"
             }
            },
            "header": {
             "fill": {
              "color": "#C8D4E3"
             },
             "line": {
              "color": "white"
             }
            },
            "type": "table"
           }
          ]
         },
         "layout": {
          "annotationdefaults": {
           "arrowcolor": "#2a3f5f",
           "arrowhead": 0,
           "arrowwidth": 1
          },
          "autotypenumbers": "strict",
          "coloraxis": {
           "colorbar": {
            "outlinewidth": 0,
            "ticks": ""
           }
          },
          "colorscale": {
           "diverging": [
            [
             0,
             "#8e0152"
            ],
            [
             0.1,
             "#c51b7d"
            ],
            [
             0.2,
             "#de77ae"
            ],
            [
             0.3,
             "#f1b6da"
            ],
            [
             0.4,
             "#fde0ef"
            ],
            [
             0.5,
             "#f7f7f7"
            ],
            [
             0.6,
             "#e6f5d0"
            ],
            [
             0.7,
             "#b8e186"
            ],
            [
             0.8,
             "#7fbc41"
            ],
            [
             0.9,
             "#4d9221"
            ],
            [
             1,
             "#276419"
            ]
           ],
           "sequential": [
            [
             0,
             "#0d0887"
            ],
            [
             0.1111111111111111,
             "#46039f"
            ],
            [
             0.2222222222222222,
             "#7201a8"
            ],
            [
             0.3333333333333333,
             "#9c179e"
            ],
            [
             0.4444444444444444,
             "#bd3786"
            ],
            [
             0.5555555555555556,
             "#d8576b"
            ],
            [
             0.6666666666666666,
             "#ed7953"
            ],
            [
             0.7777777777777778,
             "#fb9f3a"
            ],
            [
             0.8888888888888888,
             "#fdca26"
            ],
            [
             1,
             "#f0f921"
            ]
           ],
           "sequentialminus": [
            [
             0,
             "#0d0887"
            ],
            [
             0.1111111111111111,
             "#46039f"
            ],
            [
             0.2222222222222222,
             "#7201a8"
            ],
            [
             0.3333333333333333,
             "#9c179e"
            ],
            [
             0.4444444444444444,
             "#bd3786"
            ],
            [
             0.5555555555555556,
             "#d8576b"
            ],
            [
             0.6666666666666666,
             "#ed7953"
            ],
            [
             0.7777777777777778,
             "#fb9f3a"
            ],
            [
             0.8888888888888888,
             "#fdca26"
            ],
            [
             1,
             "#f0f921"
            ]
           ]
          },
          "colorway": [
           "#636efa",
           "#EF553B",
           "#00cc96",
           "#ab63fa",
           "#FFA15A",
           "#19d3f3",
           "#FF6692",
           "#B6E880",
           "#FF97FF",
           "#FECB52"
          ],
          "font": {
           "color": "#2a3f5f"
          },
          "geo": {
           "bgcolor": "white",
           "lakecolor": "white",
           "landcolor": "#E5ECF6",
           "showlakes": true,
           "showland": true,
           "subunitcolor": "white"
          },
          "hoverlabel": {
           "align": "left"
          },
          "hovermode": "closest",
          "mapbox": {
           "style": "light"
          },
          "paper_bgcolor": "white",
          "plot_bgcolor": "#E5ECF6",
          "polar": {
           "angularaxis": {
            "gridcolor": "white",
            "linecolor": "white",
            "ticks": ""
           },
           "bgcolor": "#E5ECF6",
           "radialaxis": {
            "gridcolor": "white",
            "linecolor": "white",
            "ticks": ""
           }
          },
          "scene": {
           "xaxis": {
            "backgroundcolor": "#E5ECF6",
            "gridcolor": "white",
            "gridwidth": 2,
            "linecolor": "white",
            "showbackground": true,
            "ticks": "",
            "zerolinecolor": "white"
           },
           "yaxis": {
            "backgroundcolor": "#E5ECF6",
            "gridcolor": "white",
            "gridwidth": 2,
            "linecolor": "white",
            "showbackground": true,
            "ticks": "",
            "zerolinecolor": "white"
           },
           "zaxis": {
            "backgroundcolor": "#E5ECF6",
            "gridcolor": "white",
            "gridwidth": 2,
            "linecolor": "white",
            "showbackground": true,
            "ticks": "",
            "zerolinecolor": "white"
           }
          },
          "shapedefaults": {
           "line": {
            "color": "#2a3f5f"
           }
          },
          "ternary": {
           "aaxis": {
            "gridcolor": "white",
            "linecolor": "white",
            "ticks": ""
           },
           "baxis": {
            "gridcolor": "white",
            "linecolor": "white",
            "ticks": ""
           },
           "bgcolor": "#E5ECF6",
           "caxis": {
            "gridcolor": "white",
            "linecolor": "white",
            "ticks": ""
           }
          },
          "title": {
           "x": 0.05
          },
          "xaxis": {
           "automargin": true,
           "gridcolor": "white",
           "linecolor": "white",
           "ticks": "",
           "title": {
            "standoff": 15
           },
           "zerolinecolor": "white",
           "zerolinewidth": 2
          },
          "yaxis": {
           "automargin": true,
           "gridcolor": "white",
           "linecolor": "white",
           "ticks": "",
           "title": {
            "standoff": 15
           },
           "zerolinecolor": "white",
           "zerolinewidth": 2
          }
         }
        },
        "title": {
         "text": "Top 5 directors on Netflix"
        },
        "xaxis": {
         "anchor": "y",
         "domain": [
          0,
          1
         ],
         "title": {
          "text": "Total Count"
         }
        },
        "yaxis": {
         "anchor": "x",
         "domain": [
          0,
          1
         ],
         "title": {
          "text": "Director"
         }
        }
       }
      }
     },
     "metadata": {},
     "output_type": "display_data"
    }
   ],
   "source": [
    "top5dir = top5dir.sort_values(by = [\"Total Count\"])\n",
    "barChart = px.bar(top5dir, x = \"Total Count\", y = \"Director\", title= \"Top 5 directors on Netflix\")\n",
    "barChart.show()"
   ]
  },
  {
   "cell_type": "markdown",
   "id": "b9057268",
   "metadata": {},
   "source": [
    "Now for top 5 Actors on Netflix"
   ]
  },
  {
   "cell_type": "code",
   "execution_count": 19,
   "id": "4315c5d6",
   "metadata": {},
   "outputs": [
    {
     "data": {
      "text/html": [
       "<div>\n",
       "<style scoped>\n",
       "    .dataframe tbody tr th:only-of-type {\n",
       "        vertical-align: middle;\n",
       "    }\n",
       "\n",
       "    .dataframe tbody tr th {\n",
       "        vertical-align: top;\n",
       "    }\n",
       "\n",
       "    .dataframe thead th {\n",
       "        text-align: right;\n",
       "    }\n",
       "</style>\n",
       "<table border=\"1\" class=\"dataframe\">\n",
       "  <thead>\n",
       "    <tr style=\"text-align: right;\">\n",
       "      <th></th>\n",
       "      <th>show_id</th>\n",
       "      <th>type</th>\n",
       "      <th>title</th>\n",
       "      <th>director</th>\n",
       "      <th>cast</th>\n",
       "      <th>country</th>\n",
       "      <th>date_added</th>\n",
       "      <th>release_year</th>\n",
       "      <th>rating</th>\n",
       "      <th>duration</th>\n",
       "      <th>listed_in</th>\n",
       "      <th>description</th>\n",
       "    </tr>\n",
       "  </thead>\n",
       "  <tbody>\n",
       "    <tr>\n",
       "      <th>0</th>\n",
       "      <td>s1</td>\n",
       "      <td>Movie</td>\n",
       "      <td>Dick Johnson Is Dead</td>\n",
       "      <td>Kirsten Johnson</td>\n",
       "      <td>NaN</td>\n",
       "      <td>United States</td>\n",
       "      <td>September 25, 2021</td>\n",
       "      <td>2020</td>\n",
       "      <td>PG-13</td>\n",
       "      <td>90 min</td>\n",
       "      <td>Documentaries</td>\n",
       "      <td>As her father nears the end of his life, filmm...</td>\n",
       "    </tr>\n",
       "    <tr>\n",
       "      <th>1</th>\n",
       "      <td>s2</td>\n",
       "      <td>TV Show</td>\n",
       "      <td>Blood &amp; Water</td>\n",
       "      <td>Not Specified</td>\n",
       "      <td>Ama Qamata, Khosi Ngema, Gail Mabalane, Thaban...</td>\n",
       "      <td>South Africa</td>\n",
       "      <td>September 24, 2021</td>\n",
       "      <td>2021</td>\n",
       "      <td>TV-MA</td>\n",
       "      <td>2 Seasons</td>\n",
       "      <td>International TV Shows, TV Dramas, TV Mysteries</td>\n",
       "      <td>After crossing paths at a party, a Cape Town t...</td>\n",
       "    </tr>\n",
       "    <tr>\n",
       "      <th>2</th>\n",
       "      <td>s3</td>\n",
       "      <td>TV Show</td>\n",
       "      <td>Ganglands</td>\n",
       "      <td>Julien Leclercq</td>\n",
       "      <td>Sami Bouajila, Tracy Gotoas, Samuel Jouy, Nabi...</td>\n",
       "      <td>NaN</td>\n",
       "      <td>September 24, 2021</td>\n",
       "      <td>2021</td>\n",
       "      <td>TV-MA</td>\n",
       "      <td>1 Season</td>\n",
       "      <td>Crime TV Shows, International TV Shows, TV Act...</td>\n",
       "      <td>To protect his family from a powerful drug lor...</td>\n",
       "    </tr>\n",
       "    <tr>\n",
       "      <th>3</th>\n",
       "      <td>s4</td>\n",
       "      <td>TV Show</td>\n",
       "      <td>Jailbirds New Orleans</td>\n",
       "      <td>Not Specified</td>\n",
       "      <td>NaN</td>\n",
       "      <td>NaN</td>\n",
       "      <td>September 24, 2021</td>\n",
       "      <td>2021</td>\n",
       "      <td>TV-MA</td>\n",
       "      <td>1 Season</td>\n",
       "      <td>Docuseries, Reality TV</td>\n",
       "      <td>Feuds, flirtations and toilet talk go down amo...</td>\n",
       "    </tr>\n",
       "    <tr>\n",
       "      <th>4</th>\n",
       "      <td>s5</td>\n",
       "      <td>TV Show</td>\n",
       "      <td>Kota Factory</td>\n",
       "      <td>Not Specified</td>\n",
       "      <td>Mayur More, Jitendra Kumar, Ranjan Raj, Alam K...</td>\n",
       "      <td>India</td>\n",
       "      <td>September 24, 2021</td>\n",
       "      <td>2021</td>\n",
       "      <td>TV-MA</td>\n",
       "      <td>2 Seasons</td>\n",
       "      <td>International TV Shows, Romantic TV Shows, TV ...</td>\n",
       "      <td>In a city of coaching centers known to train I...</td>\n",
       "    </tr>\n",
       "  </tbody>\n",
       "</table>\n",
       "</div>"
      ],
      "text/plain": [
       "  show_id     type                  title         director  \\\n",
       "0      s1    Movie   Dick Johnson Is Dead  Kirsten Johnson   \n",
       "1      s2  TV Show          Blood & Water    Not Specified   \n",
       "2      s3  TV Show              Ganglands  Julien Leclercq   \n",
       "3      s4  TV Show  Jailbirds New Orleans    Not Specified   \n",
       "4      s5  TV Show           Kota Factory    Not Specified   \n",
       "\n",
       "                                                cast        country  \\\n",
       "0                                                NaN  United States   \n",
       "1  Ama Qamata, Khosi Ngema, Gail Mabalane, Thaban...   South Africa   \n",
       "2  Sami Bouajila, Tracy Gotoas, Samuel Jouy, Nabi...            NaN   \n",
       "3                                                NaN            NaN   \n",
       "4  Mayur More, Jitendra Kumar, Ranjan Raj, Alam K...          India   \n",
       "\n",
       "           date_added  release_year rating   duration  \\\n",
       "0  September 25, 2021          2020  PG-13     90 min   \n",
       "1  September 24, 2021          2021  TV-MA  2 Seasons   \n",
       "2  September 24, 2021          2021  TV-MA   1 Season   \n",
       "3  September 24, 2021          2021  TV-MA   1 Season   \n",
       "4  September 24, 2021          2021  TV-MA  2 Seasons   \n",
       "\n",
       "                                           listed_in  \\\n",
       "0                                      Documentaries   \n",
       "1    International TV Shows, TV Dramas, TV Mysteries   \n",
       "2  Crime TV Shows, International TV Shows, TV Act...   \n",
       "3                             Docuseries, Reality TV   \n",
       "4  International TV Shows, Romantic TV Shows, TV ...   \n",
       "\n",
       "                                         description  \n",
       "0  As her father nears the end of his life, filmm...  \n",
       "1  After crossing paths at a party, a Cape Town t...  \n",
       "2  To protect his family from a powerful drug lor...  \n",
       "3  Feuds, flirtations and toilet talk go down amo...  \n",
       "4  In a city of coaching centers known to train I...  "
      ]
     },
     "execution_count": 19,
     "metadata": {},
     "output_type": "execute_result"
    }
   ],
   "source": [
    "df.head()\n",
    "#Firstly replacing the NaN values from cast column"
   ]
  },
  {
   "cell_type": "code",
   "execution_count": 20,
   "id": "c55040a7",
   "metadata": {},
   "outputs": [
    {
     "data": {
      "application/vnd.plotly.v1+json": {
       "config": {
        "plotlyServerURL": "https://plot.ly"
       },
       "data": [
        {
         "hovertemplate": "Total Count=%{x}<br>Actor=%{y}<extra></extra>",
         "legendgroup": "",
         "marker": {
          "color": "#636efa",
          "pattern": {
           "shape": ""
          }
         },
         "name": "",
         "orientation": "h",
         "showlegend": false,
         "textposition": "auto",
         "type": "bar",
         "x": {
          "bdata": "ICAhIys=",
          "dtype": "i1"
         },
         "xaxis": "x",
         "y": [
          "Naseeruddin Shah",
          "Takahiro Sakurai",
          "Julie Tejwani",
          "Shah Rukh Khan",
          "Anupam Kher"
         ],
         "yaxis": "y"
        }
       ],
       "layout": {
        "barmode": "relative",
        "legend": {
         "tracegroupgap": 0
        },
        "template": {
         "data": {
          "bar": [
           {
            "error_x": {
             "color": "#2a3f5f"
            },
            "error_y": {
             "color": "#2a3f5f"
            },
            "marker": {
             "line": {
              "color": "#E5ECF6",
              "width": 0.5
             },
             "pattern": {
              "fillmode": "overlay",
              "size": 10,
              "solidity": 0.2
             }
            },
            "type": "bar"
           }
          ],
          "barpolar": [
           {
            "marker": {
             "line": {
              "color": "#E5ECF6",
              "width": 0.5
             },
             "pattern": {
              "fillmode": "overlay",
              "size": 10,
              "solidity": 0.2
             }
            },
            "type": "barpolar"
           }
          ],
          "carpet": [
           {
            "aaxis": {
             "endlinecolor": "#2a3f5f",
             "gridcolor": "white",
             "linecolor": "white",
             "minorgridcolor": "white",
             "startlinecolor": "#2a3f5f"
            },
            "baxis": {
             "endlinecolor": "#2a3f5f",
             "gridcolor": "white",
             "linecolor": "white",
             "minorgridcolor": "white",
             "startlinecolor": "#2a3f5f"
            },
            "type": "carpet"
           }
          ],
          "choropleth": [
           {
            "colorbar": {
             "outlinewidth": 0,
             "ticks": ""
            },
            "type": "choropleth"
           }
          ],
          "contour": [
           {
            "colorbar": {
             "outlinewidth": 0,
             "ticks": ""
            },
            "colorscale": [
             [
              0,
              "#0d0887"
             ],
             [
              0.1111111111111111,
              "#46039f"
             ],
             [
              0.2222222222222222,
              "#7201a8"
             ],
             [
              0.3333333333333333,
              "#9c179e"
             ],
             [
              0.4444444444444444,
              "#bd3786"
             ],
             [
              0.5555555555555556,
              "#d8576b"
             ],
             [
              0.6666666666666666,
              "#ed7953"
             ],
             [
              0.7777777777777778,
              "#fb9f3a"
             ],
             [
              0.8888888888888888,
              "#fdca26"
             ],
             [
              1,
              "#f0f921"
             ]
            ],
            "type": "contour"
           }
          ],
          "contourcarpet": [
           {
            "colorbar": {
             "outlinewidth": 0,
             "ticks": ""
            },
            "type": "contourcarpet"
           }
          ],
          "heatmap": [
           {
            "colorbar": {
             "outlinewidth": 0,
             "ticks": ""
            },
            "colorscale": [
             [
              0,
              "#0d0887"
             ],
             [
              0.1111111111111111,
              "#46039f"
             ],
             [
              0.2222222222222222,
              "#7201a8"
             ],
             [
              0.3333333333333333,
              "#9c179e"
             ],
             [
              0.4444444444444444,
              "#bd3786"
             ],
             [
              0.5555555555555556,
              "#d8576b"
             ],
             [
              0.6666666666666666,
              "#ed7953"
             ],
             [
              0.7777777777777778,
              "#fb9f3a"
             ],
             [
              0.8888888888888888,
              "#fdca26"
             ],
             [
              1,
              "#f0f921"
             ]
            ],
            "type": "heatmap"
           }
          ],
          "histogram": [
           {
            "marker": {
             "pattern": {
              "fillmode": "overlay",
              "size": 10,
              "solidity": 0.2
             }
            },
            "type": "histogram"
           }
          ],
          "histogram2d": [
           {
            "colorbar": {
             "outlinewidth": 0,
             "ticks": ""
            },
            "colorscale": [
             [
              0,
              "#0d0887"
             ],
             [
              0.1111111111111111,
              "#46039f"
             ],
             [
              0.2222222222222222,
              "#7201a8"
             ],
             [
              0.3333333333333333,
              "#9c179e"
             ],
             [
              0.4444444444444444,
              "#bd3786"
             ],
             [
              0.5555555555555556,
              "#d8576b"
             ],
             [
              0.6666666666666666,
              "#ed7953"
             ],
             [
              0.7777777777777778,
              "#fb9f3a"
             ],
             [
              0.8888888888888888,
              "#fdca26"
             ],
             [
              1,
              "#f0f921"
             ]
            ],
            "type": "histogram2d"
           }
          ],
          "histogram2dcontour": [
           {
            "colorbar": {
             "outlinewidth": 0,
             "ticks": ""
            },
            "colorscale": [
             [
              0,
              "#0d0887"
             ],
             [
              0.1111111111111111,
              "#46039f"
             ],
             [
              0.2222222222222222,
              "#7201a8"
             ],
             [
              0.3333333333333333,
              "#9c179e"
             ],
             [
              0.4444444444444444,
              "#bd3786"
             ],
             [
              0.5555555555555556,
              "#d8576b"
             ],
             [
              0.6666666666666666,
              "#ed7953"
             ],
             [
              0.7777777777777778,
              "#fb9f3a"
             ],
             [
              0.8888888888888888,
              "#fdca26"
             ],
             [
              1,
              "#f0f921"
             ]
            ],
            "type": "histogram2dcontour"
           }
          ],
          "mesh3d": [
           {
            "colorbar": {
             "outlinewidth": 0,
             "ticks": ""
            },
            "type": "mesh3d"
           }
          ],
          "parcoords": [
           {
            "line": {
             "colorbar": {
              "outlinewidth": 0,
              "ticks": ""
             }
            },
            "type": "parcoords"
           }
          ],
          "pie": [
           {
            "automargin": true,
            "type": "pie"
           }
          ],
          "scatter": [
           {
            "fillpattern": {
             "fillmode": "overlay",
             "size": 10,
             "solidity": 0.2
            },
            "type": "scatter"
           }
          ],
          "scatter3d": [
           {
            "line": {
             "colorbar": {
              "outlinewidth": 0,
              "ticks": ""
             }
            },
            "marker": {
             "colorbar": {
              "outlinewidth": 0,
              "ticks": ""
             }
            },
            "type": "scatter3d"
           }
          ],
          "scattercarpet": [
           {
            "marker": {
             "colorbar": {
              "outlinewidth": 0,
              "ticks": ""
             }
            },
            "type": "scattercarpet"
           }
          ],
          "scattergeo": [
           {
            "marker": {
             "colorbar": {
              "outlinewidth": 0,
              "ticks": ""
             }
            },
            "type": "scattergeo"
           }
          ],
          "scattergl": [
           {
            "marker": {
             "colorbar": {
              "outlinewidth": 0,
              "ticks": ""
             }
            },
            "type": "scattergl"
           }
          ],
          "scattermap": [
           {
            "marker": {
             "colorbar": {
              "outlinewidth": 0,
              "ticks": ""
             }
            },
            "type": "scattermap"
           }
          ],
          "scattermapbox": [
           {
            "marker": {
             "colorbar": {
              "outlinewidth": 0,
              "ticks": ""
             }
            },
            "type": "scattermapbox"
           }
          ],
          "scatterpolar": [
           {
            "marker": {
             "colorbar": {
              "outlinewidth": 0,
              "ticks": ""
             }
            },
            "type": "scatterpolar"
           }
          ],
          "scatterpolargl": [
           {
            "marker": {
             "colorbar": {
              "outlinewidth": 0,
              "ticks": ""
             }
            },
            "type": "scatterpolargl"
           }
          ],
          "scatterternary": [
           {
            "marker": {
             "colorbar": {
              "outlinewidth": 0,
              "ticks": ""
             }
            },
            "type": "scatterternary"
           }
          ],
          "surface": [
           {
            "colorbar": {
             "outlinewidth": 0,
             "ticks": ""
            },
            "colorscale": [
             [
              0,
              "#0d0887"
             ],
             [
              0.1111111111111111,
              "#46039f"
             ],
             [
              0.2222222222222222,
              "#7201a8"
             ],
             [
              0.3333333333333333,
              "#9c179e"
             ],
             [
              0.4444444444444444,
              "#bd3786"
             ],
             [
              0.5555555555555556,
              "#d8576b"
             ],
             [
              0.6666666666666666,
              "#ed7953"
             ],
             [
              0.7777777777777778,
              "#fb9f3a"
             ],
             [
              0.8888888888888888,
              "#fdca26"
             ],
             [
              1,
              "#f0f921"
             ]
            ],
            "type": "surface"
           }
          ],
          "table": [
           {
            "cells": {
             "fill": {
              "color": "#EBF0F8"
             },
             "line": {
              "color": "white"
             }
            },
            "header": {
             "fill": {
              "color": "#C8D4E3"
             },
             "line": {
              "color": "white"
             }
            },
            "type": "table"
           }
          ]
         },
         "layout": {
          "annotationdefaults": {
           "arrowcolor": "#2a3f5f",
           "arrowhead": 0,
           "arrowwidth": 1
          },
          "autotypenumbers": "strict",
          "coloraxis": {
           "colorbar": {
            "outlinewidth": 0,
            "ticks": ""
           }
          },
          "colorscale": {
           "diverging": [
            [
             0,
             "#8e0152"
            ],
            [
             0.1,
             "#c51b7d"
            ],
            [
             0.2,
             "#de77ae"
            ],
            [
             0.3,
             "#f1b6da"
            ],
            [
             0.4,
             "#fde0ef"
            ],
            [
             0.5,
             "#f7f7f7"
            ],
            [
             0.6,
             "#e6f5d0"
            ],
            [
             0.7,
             "#b8e186"
            ],
            [
             0.8,
             "#7fbc41"
            ],
            [
             0.9,
             "#4d9221"
            ],
            [
             1,
             "#276419"
            ]
           ],
           "sequential": [
            [
             0,
             "#0d0887"
            ],
            [
             0.1111111111111111,
             "#46039f"
            ],
            [
             0.2222222222222222,
             "#7201a8"
            ],
            [
             0.3333333333333333,
             "#9c179e"
            ],
            [
             0.4444444444444444,
             "#bd3786"
            ],
            [
             0.5555555555555556,
             "#d8576b"
            ],
            [
             0.6666666666666666,
             "#ed7953"
            ],
            [
             0.7777777777777778,
             "#fb9f3a"
            ],
            [
             0.8888888888888888,
             "#fdca26"
            ],
            [
             1,
             "#f0f921"
            ]
           ],
           "sequentialminus": [
            [
             0,
             "#0d0887"
            ],
            [
             0.1111111111111111,
             "#46039f"
            ],
            [
             0.2222222222222222,
             "#7201a8"
            ],
            [
             0.3333333333333333,
             "#9c179e"
            ],
            [
             0.4444444444444444,
             "#bd3786"
            ],
            [
             0.5555555555555556,
             "#d8576b"
            ],
            [
             0.6666666666666666,
             "#ed7953"
            ],
            [
             0.7777777777777778,
             "#fb9f3a"
            ],
            [
             0.8888888888888888,
             "#fdca26"
            ],
            [
             1,
             "#f0f921"
            ]
           ]
          },
          "colorway": [
           "#636efa",
           "#EF553B",
           "#00cc96",
           "#ab63fa",
           "#FFA15A",
           "#19d3f3",
           "#FF6692",
           "#B6E880",
           "#FF97FF",
           "#FECB52"
          ],
          "font": {
           "color": "#2a3f5f"
          },
          "geo": {
           "bgcolor": "white",
           "lakecolor": "white",
           "landcolor": "#E5ECF6",
           "showlakes": true,
           "showland": true,
           "subunitcolor": "white"
          },
          "hoverlabel": {
           "align": "left"
          },
          "hovermode": "closest",
          "mapbox": {
           "style": "light"
          },
          "paper_bgcolor": "white",
          "plot_bgcolor": "#E5ECF6",
          "polar": {
           "angularaxis": {
            "gridcolor": "white",
            "linecolor": "white",
            "ticks": ""
           },
           "bgcolor": "#E5ECF6",
           "radialaxis": {
            "gridcolor": "white",
            "linecolor": "white",
            "ticks": ""
           }
          },
          "scene": {
           "xaxis": {
            "backgroundcolor": "#E5ECF6",
            "gridcolor": "white",
            "gridwidth": 2,
            "linecolor": "white",
            "showbackground": true,
            "ticks": "",
            "zerolinecolor": "white"
           },
           "yaxis": {
            "backgroundcolor": "#E5ECF6",
            "gridcolor": "white",
            "gridwidth": 2,
            "linecolor": "white",
            "showbackground": true,
            "ticks": "",
            "zerolinecolor": "white"
           },
           "zaxis": {
            "backgroundcolor": "#E5ECF6",
            "gridcolor": "white",
            "gridwidth": 2,
            "linecolor": "white",
            "showbackground": true,
            "ticks": "",
            "zerolinecolor": "white"
           }
          },
          "shapedefaults": {
           "line": {
            "color": "#2a3f5f"
           }
          },
          "ternary": {
           "aaxis": {
            "gridcolor": "white",
            "linecolor": "white",
            "ticks": ""
           },
           "baxis": {
            "gridcolor": "white",
            "linecolor": "white",
            "ticks": ""
           },
           "bgcolor": "#E5ECF6",
           "caxis": {
            "gridcolor": "white",
            "linecolor": "white",
            "ticks": ""
           }
          },
          "title": {
           "x": 0.05
          },
          "xaxis": {
           "automargin": true,
           "gridcolor": "white",
           "linecolor": "white",
           "ticks": "",
           "title": {
            "standoff": 15
           },
           "zerolinecolor": "white",
           "zerolinewidth": 2
          },
          "yaxis": {
           "automargin": true,
           "gridcolor": "white",
           "linecolor": "white",
           "ticks": "",
           "title": {
            "standoff": 15
           },
           "zerolinecolor": "white",
           "zerolinewidth": 2
          }
         }
        },
        "title": {
         "text": "Top 5 Actors on Netflix"
        },
        "xaxis": {
         "anchor": "y",
         "domain": [
          0,
          1
         ],
         "title": {
          "text": "Total Count"
         }
        },
        "yaxis": {
         "anchor": "x",
         "domain": [
          0,
          1
         ],
         "title": {
          "text": "Actor"
         }
        }
       }
      }
     },
     "metadata": {},
     "output_type": "display_data"
    }
   ],
   "source": [
    "df[\"cast\"] = df[\"cast\"].fillna(\"No Cast Specified\")\n",
    "# Creating new dataframe\n",
    "cast_df = pd.DataFrame()\n",
    "cast_df = df[\"cast\"].str.split(\", \", expand=True).stack()\n",
    "cast_df = cast_df.to_frame()\n",
    "cast_df.columns = [\"Actor\"]\n",
    "actors = cast_df.groupby([\"Actor\"]).size().reset_index(name = \"Total Count\")\n",
    "actors = actors[actors.Actor != \"No Cast Specified\"]\n",
    "actors = actors.sort_values(by =[\"Total Count\"], ascending = False)\n",
    "top5Actors = actors.head()\n",
    "top5Actors = top5Actors.sort_values(by = [\"Total Count\"])\n",
    "barchart2 = px.bar(top5Actors, x=\"Total Count\", y = \"Actor\", title=\"Top 5 Actors on Netflix\")\n",
    "barchart2.show()"
   ]
  },
  {
   "cell_type": "markdown",
   "id": "660e31eb",
   "metadata": {},
   "source": [
    "Analyzing content produced on netflix based on years\n"
   ]
  },
  {
   "cell_type": "code",
   "execution_count": 21,
   "id": "b09498b3",
   "metadata": {},
   "outputs": [],
   "source": [
    "df1 = df[['type', 'release_year']]\n",
    "df1 = df1.rename(columns = {\"release_year\":\"Release Year\", \"type\": \"Type\"})\n",
    "df2 = df1.groupby(['Release Year', 'Type']).size().reset_index(name='Total Count')"
   ]
  },
  {
   "cell_type": "code",
   "execution_count": 22,
   "id": "0b764ebe",
   "metadata": {},
   "outputs": [
    {
     "name": "stdout",
     "output_type": "stream",
     "text": [
      "     Release Year     Type  Total Count\n",
      "0            1925  TV Show            1\n",
      "1            1942    Movie            2\n",
      "2            1943    Movie            3\n",
      "3            1944    Movie            3\n",
      "4            1945    Movie            3\n",
      "..            ...      ...          ...\n",
      "114          2019  TV Show          397\n",
      "115          2020    Movie          517\n",
      "116          2020  TV Show          436\n",
      "117          2021    Movie          277\n",
      "118          2021  TV Show          315\n",
      "\n",
      "[119 rows x 3 columns]\n"
     ]
    }
   ],
   "source": [
    "print(df2)"
   ]
  },
  {
   "cell_type": "code",
   "execution_count": 23,
   "id": "ad4e1da4",
   "metadata": {},
   "outputs": [
    {
     "data": {
      "application/vnd.plotly.v1+json": {
       "config": {
        "plotlyServerURL": "https://plot.ly"
       },
       "data": [
        {
         "hovertemplate": "Type=Movie<br>Release Year=%{x}<br>Total Count=%{y}<extra></extra>",
         "legendgroup": "Movie",
         "line": {
          "color": "#636efa",
          "dash": "solid"
         },
         "marker": {
          "symbol": "circle"
         },
         "mode": "lines",
         "name": "Movie",
         "orientation": "v",
         "showlegend": true,
         "type": "scatter",
         "x": {
          "bdata": "0AfRB9IH0wfUB9UH1gfXB9gH2QfaB9sH3AfdB94H3wfgB+EH4gfjB+QH5Qc=",
          "dtype": "i2"
         },
         "xaxis": "x",
         "y": {
          "bdata": "IQAoACwAMwA3AEMAUgBKAHEAdgCaAJEArQDhAAgBjgGSAv8C/wJ5AgUCFQE=",
          "dtype": "i2"
         },
         "yaxis": "y"
        },
        {
         "hovertemplate": "Type=TV Show<br>Release Year=%{x}<br>Total Count=%{y}<extra></extra>",
         "legendgroup": "TV Show",
         "line": {
          "color": "#EF553B",
          "dash": "solid"
         },
         "marker": {
          "symbol": "circle"
         },
         "mode": "lines",
         "name": "TV Show",
         "orientation": "v",
         "showlegend": true,
         "type": "scatter",
         "x": {
          "bdata": "0AfRB9IH0wfUB9UH1gfXB9gH2QfaB9sH3AfdB94H3wfgB+EH4gfjB+QH5Qc=",
          "dtype": "i2"
         },
         "xaxis": "x",
         "y": {
          "bdata": "BAAFAAcACgAJAA0ADgAOABcAIgAoACgAQAA/AFgAogD0AAkBfAGNAbQBOwE=",
          "dtype": "i2"
         },
         "yaxis": "y"
        }
       ],
       "layout": {
        "legend": {
         "title": {
          "text": "Type"
         },
         "tracegroupgap": 0
        },
        "template": {
         "data": {
          "bar": [
           {
            "error_x": {
             "color": "#2a3f5f"
            },
            "error_y": {
             "color": "#2a3f5f"
            },
            "marker": {
             "line": {
              "color": "#E5ECF6",
              "width": 0.5
             },
             "pattern": {
              "fillmode": "overlay",
              "size": 10,
              "solidity": 0.2
             }
            },
            "type": "bar"
           }
          ],
          "barpolar": [
           {
            "marker": {
             "line": {
              "color": "#E5ECF6",
              "width": 0.5
             },
             "pattern": {
              "fillmode": "overlay",
              "size": 10,
              "solidity": 0.2
             }
            },
            "type": "barpolar"
           }
          ],
          "carpet": [
           {
            "aaxis": {
             "endlinecolor": "#2a3f5f",
             "gridcolor": "white",
             "linecolor": "white",
             "minorgridcolor": "white",
             "startlinecolor": "#2a3f5f"
            },
            "baxis": {
             "endlinecolor": "#2a3f5f",
             "gridcolor": "white",
             "linecolor": "white",
             "minorgridcolor": "white",
             "startlinecolor": "#2a3f5f"
            },
            "type": "carpet"
           }
          ],
          "choropleth": [
           {
            "colorbar": {
             "outlinewidth": 0,
             "ticks": ""
            },
            "type": "choropleth"
           }
          ],
          "contour": [
           {
            "colorbar": {
             "outlinewidth": 0,
             "ticks": ""
            },
            "colorscale": [
             [
              0,
              "#0d0887"
             ],
             [
              0.1111111111111111,
              "#46039f"
             ],
             [
              0.2222222222222222,
              "#7201a8"
             ],
             [
              0.3333333333333333,
              "#9c179e"
             ],
             [
              0.4444444444444444,
              "#bd3786"
             ],
             [
              0.5555555555555556,
              "#d8576b"
             ],
             [
              0.6666666666666666,
              "#ed7953"
             ],
             [
              0.7777777777777778,
              "#fb9f3a"
             ],
             [
              0.8888888888888888,
              "#fdca26"
             ],
             [
              1,
              "#f0f921"
             ]
            ],
            "type": "contour"
           }
          ],
          "contourcarpet": [
           {
            "colorbar": {
             "outlinewidth": 0,
             "ticks": ""
            },
            "type": "contourcarpet"
           }
          ],
          "heatmap": [
           {
            "colorbar": {
             "outlinewidth": 0,
             "ticks": ""
            },
            "colorscale": [
             [
              0,
              "#0d0887"
             ],
             [
              0.1111111111111111,
              "#46039f"
             ],
             [
              0.2222222222222222,
              "#7201a8"
             ],
             [
              0.3333333333333333,
              "#9c179e"
             ],
             [
              0.4444444444444444,
              "#bd3786"
             ],
             [
              0.5555555555555556,
              "#d8576b"
             ],
             [
              0.6666666666666666,
              "#ed7953"
             ],
             [
              0.7777777777777778,
              "#fb9f3a"
             ],
             [
              0.8888888888888888,
              "#fdca26"
             ],
             [
              1,
              "#f0f921"
             ]
            ],
            "type": "heatmap"
           }
          ],
          "histogram": [
           {
            "marker": {
             "pattern": {
              "fillmode": "overlay",
              "size": 10,
              "solidity": 0.2
             }
            },
            "type": "histogram"
           }
          ],
          "histogram2d": [
           {
            "colorbar": {
             "outlinewidth": 0,
             "ticks": ""
            },
            "colorscale": [
             [
              0,
              "#0d0887"
             ],
             [
              0.1111111111111111,
              "#46039f"
             ],
             [
              0.2222222222222222,
              "#7201a8"
             ],
             [
              0.3333333333333333,
              "#9c179e"
             ],
             [
              0.4444444444444444,
              "#bd3786"
             ],
             [
              0.5555555555555556,
              "#d8576b"
             ],
             [
              0.6666666666666666,
              "#ed7953"
             ],
             [
              0.7777777777777778,
              "#fb9f3a"
             ],
             [
              0.8888888888888888,
              "#fdca26"
             ],
             [
              1,
              "#f0f921"
             ]
            ],
            "type": "histogram2d"
           }
          ],
          "histogram2dcontour": [
           {
            "colorbar": {
             "outlinewidth": 0,
             "ticks": ""
            },
            "colorscale": [
             [
              0,
              "#0d0887"
             ],
             [
              0.1111111111111111,
              "#46039f"
             ],
             [
              0.2222222222222222,
              "#7201a8"
             ],
             [
              0.3333333333333333,
              "#9c179e"
             ],
             [
              0.4444444444444444,
              "#bd3786"
             ],
             [
              0.5555555555555556,
              "#d8576b"
             ],
             [
              0.6666666666666666,
              "#ed7953"
             ],
             [
              0.7777777777777778,
              "#fb9f3a"
             ],
             [
              0.8888888888888888,
              "#fdca26"
             ],
             [
              1,
              "#f0f921"
             ]
            ],
            "type": "histogram2dcontour"
           }
          ],
          "mesh3d": [
           {
            "colorbar": {
             "outlinewidth": 0,
             "ticks": ""
            },
            "type": "mesh3d"
           }
          ],
          "parcoords": [
           {
            "line": {
             "colorbar": {
              "outlinewidth": 0,
              "ticks": ""
             }
            },
            "type": "parcoords"
           }
          ],
          "pie": [
           {
            "automargin": true,
            "type": "pie"
           }
          ],
          "scatter": [
           {
            "fillpattern": {
             "fillmode": "overlay",
             "size": 10,
             "solidity": 0.2
            },
            "type": "scatter"
           }
          ],
          "scatter3d": [
           {
            "line": {
             "colorbar": {
              "outlinewidth": 0,
              "ticks": ""
             }
            },
            "marker": {
             "colorbar": {
              "outlinewidth": 0,
              "ticks": ""
             }
            },
            "type": "scatter3d"
           }
          ],
          "scattercarpet": [
           {
            "marker": {
             "colorbar": {
              "outlinewidth": 0,
              "ticks": ""
             }
            },
            "type": "scattercarpet"
           }
          ],
          "scattergeo": [
           {
            "marker": {
             "colorbar": {
              "outlinewidth": 0,
              "ticks": ""
             }
            },
            "type": "scattergeo"
           }
          ],
          "scattergl": [
           {
            "marker": {
             "colorbar": {
              "outlinewidth": 0,
              "ticks": ""
             }
            },
            "type": "scattergl"
           }
          ],
          "scattermap": [
           {
            "marker": {
             "colorbar": {
              "outlinewidth": 0,
              "ticks": ""
             }
            },
            "type": "scattermap"
           }
          ],
          "scattermapbox": [
           {
            "marker": {
             "colorbar": {
              "outlinewidth": 0,
              "ticks": ""
             }
            },
            "type": "scattermapbox"
           }
          ],
          "scatterpolar": [
           {
            "marker": {
             "colorbar": {
              "outlinewidth": 0,
              "ticks": ""
             }
            },
            "type": "scatterpolar"
           }
          ],
          "scatterpolargl": [
           {
            "marker": {
             "colorbar": {
              "outlinewidth": 0,
              "ticks": ""
             }
            },
            "type": "scatterpolargl"
           }
          ],
          "scatterternary": [
           {
            "marker": {
             "colorbar": {
              "outlinewidth": 0,
              "ticks": ""
             }
            },
            "type": "scatterternary"
           }
          ],
          "surface": [
           {
            "colorbar": {
             "outlinewidth": 0,
             "ticks": ""
            },
            "colorscale": [
             [
              0,
              "#0d0887"
             ],
             [
              0.1111111111111111,
              "#46039f"
             ],
             [
              0.2222222222222222,
              "#7201a8"
             ],
             [
              0.3333333333333333,
              "#9c179e"
             ],
             [
              0.4444444444444444,
              "#bd3786"
             ],
             [
              0.5555555555555556,
              "#d8576b"
             ],
             [
              0.6666666666666666,
              "#ed7953"
             ],
             [
              0.7777777777777778,
              "#fb9f3a"
             ],
             [
              0.8888888888888888,
              "#fdca26"
             ],
             [
              1,
              "#f0f921"
             ]
            ],
            "type": "surface"
           }
          ],
          "table": [
           {
            "cells": {
             "fill": {
              "color": "#EBF0F8"
             },
             "line": {
              "color": "white"
             }
            },
            "header": {
             "fill": {
              "color": "#C8D4E3"
             },
             "line": {
              "color": "white"
             }
            },
            "type": "table"
           }
          ]
         },
         "layout": {
          "annotationdefaults": {
           "arrowcolor": "#2a3f5f",
           "arrowhead": 0,
           "arrowwidth": 1
          },
          "autotypenumbers": "strict",
          "coloraxis": {
           "colorbar": {
            "outlinewidth": 0,
            "ticks": ""
           }
          },
          "colorscale": {
           "diverging": [
            [
             0,
             "#8e0152"
            ],
            [
             0.1,
             "#c51b7d"
            ],
            [
             0.2,
             "#de77ae"
            ],
            [
             0.3,
             "#f1b6da"
            ],
            [
             0.4,
             "#fde0ef"
            ],
            [
             0.5,
             "#f7f7f7"
            ],
            [
             0.6,
             "#e6f5d0"
            ],
            [
             0.7,
             "#b8e186"
            ],
            [
             0.8,
             "#7fbc41"
            ],
            [
             0.9,
             "#4d9221"
            ],
            [
             1,
             "#276419"
            ]
           ],
           "sequential": [
            [
             0,
             "#0d0887"
            ],
            [
             0.1111111111111111,
             "#46039f"
            ],
            [
             0.2222222222222222,
             "#7201a8"
            ],
            [
             0.3333333333333333,
             "#9c179e"
            ],
            [
             0.4444444444444444,
             "#bd3786"
            ],
            [
             0.5555555555555556,
             "#d8576b"
            ],
            [
             0.6666666666666666,
             "#ed7953"
            ],
            [
             0.7777777777777778,
             "#fb9f3a"
            ],
            [
             0.8888888888888888,
             "#fdca26"
            ],
            [
             1,
             "#f0f921"
            ]
           ],
           "sequentialminus": [
            [
             0,
             "#0d0887"
            ],
            [
             0.1111111111111111,
             "#46039f"
            ],
            [
             0.2222222222222222,
             "#7201a8"
            ],
            [
             0.3333333333333333,
             "#9c179e"
            ],
            [
             0.4444444444444444,
             "#bd3786"
            ],
            [
             0.5555555555555556,
             "#d8576b"
            ],
            [
             0.6666666666666666,
             "#ed7953"
            ],
            [
             0.7777777777777778,
             "#fb9f3a"
            ],
            [
             0.8888888888888888,
             "#fdca26"
            ],
            [
             1,
             "#f0f921"
            ]
           ]
          },
          "colorway": [
           "#636efa",
           "#EF553B",
           "#00cc96",
           "#ab63fa",
           "#FFA15A",
           "#19d3f3",
           "#FF6692",
           "#B6E880",
           "#FF97FF",
           "#FECB52"
          ],
          "font": {
           "color": "#2a3f5f"
          },
          "geo": {
           "bgcolor": "white",
           "lakecolor": "white",
           "landcolor": "#E5ECF6",
           "showlakes": true,
           "showland": true,
           "subunitcolor": "white"
          },
          "hoverlabel": {
           "align": "left"
          },
          "hovermode": "closest",
          "mapbox": {
           "style": "light"
          },
          "paper_bgcolor": "white",
          "plot_bgcolor": "#E5ECF6",
          "polar": {
           "angularaxis": {
            "gridcolor": "white",
            "linecolor": "white",
            "ticks": ""
           },
           "bgcolor": "#E5ECF6",
           "radialaxis": {
            "gridcolor": "white",
            "linecolor": "white",
            "ticks": ""
           }
          },
          "scene": {
           "xaxis": {
            "backgroundcolor": "#E5ECF6",
            "gridcolor": "white",
            "gridwidth": 2,
            "linecolor": "white",
            "showbackground": true,
            "ticks": "",
            "zerolinecolor": "white"
           },
           "yaxis": {
            "backgroundcolor": "#E5ECF6",
            "gridcolor": "white",
            "gridwidth": 2,
            "linecolor": "white",
            "showbackground": true,
            "ticks": "",
            "zerolinecolor": "white"
           },
           "zaxis": {
            "backgroundcolor": "#E5ECF6",
            "gridcolor": "white",
            "gridwidth": 2,
            "linecolor": "white",
            "showbackground": true,
            "ticks": "",
            "zerolinecolor": "white"
           }
          },
          "shapedefaults": {
           "line": {
            "color": "#2a3f5f"
           }
          },
          "ternary": {
           "aaxis": {
            "gridcolor": "white",
            "linecolor": "white",
            "ticks": ""
           },
           "baxis": {
            "gridcolor": "white",
            "linecolor": "white",
            "ticks": ""
           },
           "bgcolor": "#E5ECF6",
           "caxis": {
            "gridcolor": "white",
            "linecolor": "white",
            "ticks": ""
           }
          },
          "title": {
           "x": 0.05
          },
          "xaxis": {
           "automargin": true,
           "gridcolor": "white",
           "linecolor": "white",
           "ticks": "",
           "title": {
            "standoff": 15
           },
           "zerolinecolor": "white",
           "zerolinewidth": 2
          },
          "yaxis": {
           "automargin": true,
           "gridcolor": "white",
           "linecolor": "white",
           "ticks": "",
           "title": {
            "standoff": 15
           },
           "zerolinecolor": "white",
           "zerolinewidth": 2
          }
         }
        },
        "title": {
         "text": "Trend of Content Produced on Netfilx Every Year"
        },
        "xaxis": {
         "anchor": "y",
         "domain": [
          0,
          1
         ],
         "title": {
          "text": "Release Year"
         }
        },
        "yaxis": {
         "anchor": "x",
         "domain": [
          0,
          1
         ],
         "title": {
          "text": "Total Count"
         }
        }
       }
      }
     },
     "metadata": {},
     "output_type": "display_data"
    }
   ],
   "source": [
    "df2 = df2[df2['Release Year']>=2000]\n",
    "graph = px.line(df2, x = \"Release Year\", y=\"Total Count\", color = \"Type\", title = \"Trend of Content Produced on Netfilx Every Year\")\n",
    "graph.show()"
   ]
  },
  {
   "cell_type": "markdown",
   "id": "203eaf59",
   "metadata": {},
   "source": [
    "Sentiment Analysis of Netflix Content"
   ]
  },
  {
   "cell_type": "code",
   "execution_count": 24,
   "id": "e67e77de",
   "metadata": {},
   "outputs": [
    {
     "data": {
      "application/vnd.plotly.v1+json": {
       "config": {
        "plotlyServerURL": "https://plot.ly"
       },
       "data": [
        {
         "hovertemplate": "Sentiment=Negative<br>Release Year=%{x}<br>Total Count=%{y}<extra></extra>",
         "legendgroup": "Negative",
         "marker": {
          "color": "#636efa",
          "pattern": {
           "shape": ""
          }
         },
         "name": "Negative",
         "orientation": "v",
         "showlegend": true,
         "textposition": "auto",
         "type": "bar",
         "x": {
          "bdata": "1gfXB9gH2QfaB9sH3AfdB94H3wfgB+EH4gfjB+QH5Qc=",
          "dtype": "i2"
         },
         "xaxis": "x",
         "y": {
          "bdata": "HQAaACAAKAA1AC4ASQBdAHUApwAbAUMBYwE0AREBpAA=",
          "dtype": "i2"
         },
         "yaxis": "y"
        },
        {
         "hovertemplate": "Sentiment=Neutral<br>Release Year=%{x}<br>Total Count=%{y}<extra></extra>",
         "legendgroup": "Neutral",
         "marker": {
          "color": "#EF553B",
          "pattern": {
           "shape": ""
          }
         },
         "name": "Neutral",
         "orientation": "v",
         "showlegend": true,
         "textposition": "auto",
         "type": "bar",
         "x": {
          "bdata": "1gfXB9gH2QfaB9sH3AfdB94H3wfgB+EH4gfjB+QH5Qc=",
          "dtype": "i2"
         },
         "xaxis": "x",
         "y": {
          "bdata": "EgAVACIAIQAoACEAJwAsAEMAYACYANIA1ACqAKEAVQA=",
          "dtype": "i2"
         },
         "yaxis": "y"
        },
        {
         "hovertemplate": "Sentiment=Positive<br>Release Year=%{x}<br>Total Count=%{y}<extra></extra>",
         "legendgroup": "Positive",
         "marker": {
          "color": "#00cc96",
          "pattern": {
           "shape": ""
          }
         },
         "name": "Positive",
         "orientation": "v",
         "showlegend": true,
         "textposition": "auto",
         "type": "bar",
         "x": {
          "bdata": "1gfXB9gH2QfaB9sH3AfdB94H3wfgB+EH4gfjB+QH5Qc=",
          "dtype": "i2"
         },
         "xaxis": "x",
         "y": {
          "bdata": "MQApAEYATwBlAGoAfQCXAKgAKQHTAfMBRAIoAgcCVwE=",
          "dtype": "i2"
         },
         "yaxis": "y"
        }
       ],
       "layout": {
        "barmode": "relative",
        "legend": {
         "title": {
          "text": "Sentiment"
         },
         "tracegroupgap": 0
        },
        "template": {
         "data": {
          "bar": [
           {
            "error_x": {
             "color": "#2a3f5f"
            },
            "error_y": {
             "color": "#2a3f5f"
            },
            "marker": {
             "line": {
              "color": "#E5ECF6",
              "width": 0.5
             },
             "pattern": {
              "fillmode": "overlay",
              "size": 10,
              "solidity": 0.2
             }
            },
            "type": "bar"
           }
          ],
          "barpolar": [
           {
            "marker": {
             "line": {
              "color": "#E5ECF6",
              "width": 0.5
             },
             "pattern": {
              "fillmode": "overlay",
              "size": 10,
              "solidity": 0.2
             }
            },
            "type": "barpolar"
           }
          ],
          "carpet": [
           {
            "aaxis": {
             "endlinecolor": "#2a3f5f",
             "gridcolor": "white",
             "linecolor": "white",
             "minorgridcolor": "white",
             "startlinecolor": "#2a3f5f"
            },
            "baxis": {
             "endlinecolor": "#2a3f5f",
             "gridcolor": "white",
             "linecolor": "white",
             "minorgridcolor": "white",
             "startlinecolor": "#2a3f5f"
            },
            "type": "carpet"
           }
          ],
          "choropleth": [
           {
            "colorbar": {
             "outlinewidth": 0,
             "ticks": ""
            },
            "type": "choropleth"
           }
          ],
          "contour": [
           {
            "colorbar": {
             "outlinewidth": 0,
             "ticks": ""
            },
            "colorscale": [
             [
              0,
              "#0d0887"
             ],
             [
              0.1111111111111111,
              "#46039f"
             ],
             [
              0.2222222222222222,
              "#7201a8"
             ],
             [
              0.3333333333333333,
              "#9c179e"
             ],
             [
              0.4444444444444444,
              "#bd3786"
             ],
             [
              0.5555555555555556,
              "#d8576b"
             ],
             [
              0.6666666666666666,
              "#ed7953"
             ],
             [
              0.7777777777777778,
              "#fb9f3a"
             ],
             [
              0.8888888888888888,
              "#fdca26"
             ],
             [
              1,
              "#f0f921"
             ]
            ],
            "type": "contour"
           }
          ],
          "contourcarpet": [
           {
            "colorbar": {
             "outlinewidth": 0,
             "ticks": ""
            },
            "type": "contourcarpet"
           }
          ],
          "heatmap": [
           {
            "colorbar": {
             "outlinewidth": 0,
             "ticks": ""
            },
            "colorscale": [
             [
              0,
              "#0d0887"
             ],
             [
              0.1111111111111111,
              "#46039f"
             ],
             [
              0.2222222222222222,
              "#7201a8"
             ],
             [
              0.3333333333333333,
              "#9c179e"
             ],
             [
              0.4444444444444444,
              "#bd3786"
             ],
             [
              0.5555555555555556,
              "#d8576b"
             ],
             [
              0.6666666666666666,
              "#ed7953"
             ],
             [
              0.7777777777777778,
              "#fb9f3a"
             ],
             [
              0.8888888888888888,
              "#fdca26"
             ],
             [
              1,
              "#f0f921"
             ]
            ],
            "type": "heatmap"
           }
          ],
          "histogram": [
           {
            "marker": {
             "pattern": {
              "fillmode": "overlay",
              "size": 10,
              "solidity": 0.2
             }
            },
            "type": "histogram"
           }
          ],
          "histogram2d": [
           {
            "colorbar": {
             "outlinewidth": 0,
             "ticks": ""
            },
            "colorscale": [
             [
              0,
              "#0d0887"
             ],
             [
              0.1111111111111111,
              "#46039f"
             ],
             [
              0.2222222222222222,
              "#7201a8"
             ],
             [
              0.3333333333333333,
              "#9c179e"
             ],
             [
              0.4444444444444444,
              "#bd3786"
             ],
             [
              0.5555555555555556,
              "#d8576b"
             ],
             [
              0.6666666666666666,
              "#ed7953"
             ],
             [
              0.7777777777777778,
              "#fb9f3a"
             ],
             [
              0.8888888888888888,
              "#fdca26"
             ],
             [
              1,
              "#f0f921"
             ]
            ],
            "type": "histogram2d"
           }
          ],
          "histogram2dcontour": [
           {
            "colorbar": {
             "outlinewidth": 0,
             "ticks": ""
            },
            "colorscale": [
             [
              0,
              "#0d0887"
             ],
             [
              0.1111111111111111,
              "#46039f"
             ],
             [
              0.2222222222222222,
              "#7201a8"
             ],
             [
              0.3333333333333333,
              "#9c179e"
             ],
             [
              0.4444444444444444,
              "#bd3786"
             ],
             [
              0.5555555555555556,
              "#d8576b"
             ],
             [
              0.6666666666666666,
              "#ed7953"
             ],
             [
              0.7777777777777778,
              "#fb9f3a"
             ],
             [
              0.8888888888888888,
              "#fdca26"
             ],
             [
              1,
              "#f0f921"
             ]
            ],
            "type": "histogram2dcontour"
           }
          ],
          "mesh3d": [
           {
            "colorbar": {
             "outlinewidth": 0,
             "ticks": ""
            },
            "type": "mesh3d"
           }
          ],
          "parcoords": [
           {
            "line": {
             "colorbar": {
              "outlinewidth": 0,
              "ticks": ""
             }
            },
            "type": "parcoords"
           }
          ],
          "pie": [
           {
            "automargin": true,
            "type": "pie"
           }
          ],
          "scatter": [
           {
            "fillpattern": {
             "fillmode": "overlay",
             "size": 10,
             "solidity": 0.2
            },
            "type": "scatter"
           }
          ],
          "scatter3d": [
           {
            "line": {
             "colorbar": {
              "outlinewidth": 0,
              "ticks": ""
             }
            },
            "marker": {
             "colorbar": {
              "outlinewidth": 0,
              "ticks": ""
             }
            },
            "type": "scatter3d"
           }
          ],
          "scattercarpet": [
           {
            "marker": {
             "colorbar": {
              "outlinewidth": 0,
              "ticks": ""
             }
            },
            "type": "scattercarpet"
           }
          ],
          "scattergeo": [
           {
            "marker": {
             "colorbar": {
              "outlinewidth": 0,
              "ticks": ""
             }
            },
            "type": "scattergeo"
           }
          ],
          "scattergl": [
           {
            "marker": {
             "colorbar": {
              "outlinewidth": 0,
              "ticks": ""
             }
            },
            "type": "scattergl"
           }
          ],
          "scattermap": [
           {
            "marker": {
             "colorbar": {
              "outlinewidth": 0,
              "ticks": ""
             }
            },
            "type": "scattermap"
           }
          ],
          "scattermapbox": [
           {
            "marker": {
             "colorbar": {
              "outlinewidth": 0,
              "ticks": ""
             }
            },
            "type": "scattermapbox"
           }
          ],
          "scatterpolar": [
           {
            "marker": {
             "colorbar": {
              "outlinewidth": 0,
              "ticks": ""
             }
            },
            "type": "scatterpolar"
           }
          ],
          "scatterpolargl": [
           {
            "marker": {
             "colorbar": {
              "outlinewidth": 0,
              "ticks": ""
             }
            },
            "type": "scatterpolargl"
           }
          ],
          "scatterternary": [
           {
            "marker": {
             "colorbar": {
              "outlinewidth": 0,
              "ticks": ""
             }
            },
            "type": "scatterternary"
           }
          ],
          "surface": [
           {
            "colorbar": {
             "outlinewidth": 0,
             "ticks": ""
            },
            "colorscale": [
             [
              0,
              "#0d0887"
             ],
             [
              0.1111111111111111,
              "#46039f"
             ],
             [
              0.2222222222222222,
              "#7201a8"
             ],
             [
              0.3333333333333333,
              "#9c179e"
             ],
             [
              0.4444444444444444,
              "#bd3786"
             ],
             [
              0.5555555555555556,
              "#d8576b"
             ],
             [
              0.6666666666666666,
              "#ed7953"
             ],
             [
              0.7777777777777778,
              "#fb9f3a"
             ],
             [
              0.8888888888888888,
              "#fdca26"
             ],
             [
              1,
              "#f0f921"
             ]
            ],
            "type": "surface"
           }
          ],
          "table": [
           {
            "cells": {
             "fill": {
              "color": "#EBF0F8"
             },
             "line": {
              "color": "white"
             }
            },
            "header": {
             "fill": {
              "color": "#C8D4E3"
             },
             "line": {
              "color": "white"
             }
            },
            "type": "table"
           }
          ]
         },
         "layout": {
          "annotationdefaults": {
           "arrowcolor": "#2a3f5f",
           "arrowhead": 0,
           "arrowwidth": 1
          },
          "autotypenumbers": "strict",
          "coloraxis": {
           "colorbar": {
            "outlinewidth": 0,
            "ticks": ""
           }
          },
          "colorscale": {
           "diverging": [
            [
             0,
             "#8e0152"
            ],
            [
             0.1,
             "#c51b7d"
            ],
            [
             0.2,
             "#de77ae"
            ],
            [
             0.3,
             "#f1b6da"
            ],
            [
             0.4,
             "#fde0ef"
            ],
            [
             0.5,
             "#f7f7f7"
            ],
            [
             0.6,
             "#e6f5d0"
            ],
            [
             0.7,
             "#b8e186"
            ],
            [
             0.8,
             "#7fbc41"
            ],
            [
             0.9,
             "#4d9221"
            ],
            [
             1,
             "#276419"
            ]
           ],
           "sequential": [
            [
             0,
             "#0d0887"
            ],
            [
             0.1111111111111111,
             "#46039f"
            ],
            [
             0.2222222222222222,
             "#7201a8"
            ],
            [
             0.3333333333333333,
             "#9c179e"
            ],
            [
             0.4444444444444444,
             "#bd3786"
            ],
            [
             0.5555555555555556,
             "#d8576b"
            ],
            [
             0.6666666666666666,
             "#ed7953"
            ],
            [
             0.7777777777777778,
             "#fb9f3a"
            ],
            [
             0.8888888888888888,
             "#fdca26"
            ],
            [
             1,
             "#f0f921"
            ]
           ],
           "sequentialminus": [
            [
             0,
             "#0d0887"
            ],
            [
             0.1111111111111111,
             "#46039f"
            ],
            [
             0.2222222222222222,
             "#7201a8"
            ],
            [
             0.3333333333333333,
             "#9c179e"
            ],
            [
             0.4444444444444444,
             "#bd3786"
            ],
            [
             0.5555555555555556,
             "#d8576b"
            ],
            [
             0.6666666666666666,
             "#ed7953"
            ],
            [
             0.7777777777777778,
             "#fb9f3a"
            ],
            [
             0.8888888888888888,
             "#fdca26"
            ],
            [
             1,
             "#f0f921"
            ]
           ]
          },
          "colorway": [
           "#636efa",
           "#EF553B",
           "#00cc96",
           "#ab63fa",
           "#FFA15A",
           "#19d3f3",
           "#FF6692",
           "#B6E880",
           "#FF97FF",
           "#FECB52"
          ],
          "font": {
           "color": "#2a3f5f"
          },
          "geo": {
           "bgcolor": "white",
           "lakecolor": "white",
           "landcolor": "#E5ECF6",
           "showlakes": true,
           "showland": true,
           "subunitcolor": "white"
          },
          "hoverlabel": {
           "align": "left"
          },
          "hovermode": "closest",
          "mapbox": {
           "style": "light"
          },
          "paper_bgcolor": "white",
          "plot_bgcolor": "#E5ECF6",
          "polar": {
           "angularaxis": {
            "gridcolor": "white",
            "linecolor": "white",
            "ticks": ""
           },
           "bgcolor": "#E5ECF6",
           "radialaxis": {
            "gridcolor": "white",
            "linecolor": "white",
            "ticks": ""
           }
          },
          "scene": {
           "xaxis": {
            "backgroundcolor": "#E5ECF6",
            "gridcolor": "white",
            "gridwidth": 2,
            "linecolor": "white",
            "showbackground": true,
            "ticks": "",
            "zerolinecolor": "white"
           },
           "yaxis": {
            "backgroundcolor": "#E5ECF6",
            "gridcolor": "white",
            "gridwidth": 2,
            "linecolor": "white",
            "showbackground": true,
            "ticks": "",
            "zerolinecolor": "white"
           },
           "zaxis": {
            "backgroundcolor": "#E5ECF6",
            "gridcolor": "white",
            "gridwidth": 2,
            "linecolor": "white",
            "showbackground": true,
            "ticks": "",
            "zerolinecolor": "white"
           }
          },
          "shapedefaults": {
           "line": {
            "color": "#2a3f5f"
           }
          },
          "ternary": {
           "aaxis": {
            "gridcolor": "white",
            "linecolor": "white",
            "ticks": ""
           },
           "baxis": {
            "gridcolor": "white",
            "linecolor": "white",
            "ticks": ""
           },
           "bgcolor": "#E5ECF6",
           "caxis": {
            "gridcolor": "white",
            "linecolor": "white",
            "ticks": ""
           }
          },
          "title": {
           "x": 0.05
          },
          "xaxis": {
           "automargin": true,
           "gridcolor": "white",
           "linecolor": "white",
           "ticks": "",
           "title": {
            "standoff": 15
           },
           "zerolinecolor": "white",
           "zerolinewidth": 2
          },
          "yaxis": {
           "automargin": true,
           "gridcolor": "white",
           "linecolor": "white",
           "ticks": "",
           "title": {
            "standoff": 15
           },
           "zerolinecolor": "white",
           "zerolinewidth": 2
          }
         }
        },
        "title": {
         "text": "Sentiment Analysis of Content on Netflix"
        },
        "xaxis": {
         "anchor": "y",
         "domain": [
          0,
          1
         ],
         "title": {
          "text": "Release Year"
         }
        },
        "yaxis": {
         "anchor": "x",
         "domain": [
          0,
          1
         ],
         "title": {
          "text": "Total Count"
         }
        }
       }
      }
     },
     "metadata": {},
     "output_type": "display_data"
    }
   ],
   "source": [
    "df3 = df[['release_year', 'description']]\n",
    "df3 = df3.rename(columns = {'release_year':'Release Year', 'description':'Description'})\n",
    "for index, row in df3.iterrows():\n",
    "  d=row['Description']\n",
    "  testimonial = TextBlob(d)\n",
    "  p = testimonial.sentiment.polarity\n",
    "  if p==0:\n",
    "    sent = 'Neutral'\n",
    "  elif p>0:\n",
    "    sent = 'Positive'\n",
    "  else:\n",
    "    sent = 'Negative'\n",
    "  df3.loc[[index, 2], 'Sentiment']=sent\n",
    "\n",
    "df3 = df3.groupby(['Release Year', 'Sentiment']).size().reset_index(name = 'Total Count')\n",
    "\n",
    "df3 = df3[df3['Release Year']>2005]\n",
    "barGraph = px.bar(df3, x=\"Release Year\", y=\"Total Count\", color = \"Sentiment\", title = \"Sentiment Analysis of Content on Netflix\")\n",
    "barGraph.show()"
   ]
  },
  {
   "cell_type": "markdown",
   "id": "ca579eb9",
   "metadata": {},
   "source": [
    "Top 10 Countries by most Netfix Content"
   ]
  },
  {
   "cell_type": "code",
   "execution_count": 25,
   "id": "47c02a2c",
   "metadata": {},
   "outputs": [
    {
     "data": {
      "application/vnd.plotly.v1+json": {
       "config": {
        "plotlyServerURL": "https://plot.ly"
       },
       "data": [
        {
         "hovertemplate": "Country=%{x}<br>Number of Titles=%{y}<extra></extra>",
         "legendgroup": "",
         "marker": {
          "color": "#636efa",
          "pattern": {
           "shape": ""
          }
         },
         "name": "",
         "orientation": "v",
         "showlegend": false,
         "textposition": "auto",
         "type": "bar",
         "x": [
          "United States",
          "India",
          "United Kingdom",
          "Japan",
          "South Korea",
          "Canada",
          "Spain",
          "France",
          "Mexico",
          "Egypt"
         ],
         "xaxis": "x",
         "y": {
          "bdata": "AgvMA6MB9QDHALUAkQB8AG4AagA=",
          "dtype": "i2"
         },
         "yaxis": "y"
        }
       ],
       "layout": {
        "barmode": "relative",
        "legend": {
         "tracegroupgap": 0
        },
        "template": {
         "data": {
          "bar": [
           {
            "error_x": {
             "color": "#2a3f5f"
            },
            "error_y": {
             "color": "#2a3f5f"
            },
            "marker": {
             "line": {
              "color": "#E5ECF6",
              "width": 0.5
             },
             "pattern": {
              "fillmode": "overlay",
              "size": 10,
              "solidity": 0.2
             }
            },
            "type": "bar"
           }
          ],
          "barpolar": [
           {
            "marker": {
             "line": {
              "color": "#E5ECF6",
              "width": 0.5
             },
             "pattern": {
              "fillmode": "overlay",
              "size": 10,
              "solidity": 0.2
             }
            },
            "type": "barpolar"
           }
          ],
          "carpet": [
           {
            "aaxis": {
             "endlinecolor": "#2a3f5f",
             "gridcolor": "white",
             "linecolor": "white",
             "minorgridcolor": "white",
             "startlinecolor": "#2a3f5f"
            },
            "baxis": {
             "endlinecolor": "#2a3f5f",
             "gridcolor": "white",
             "linecolor": "white",
             "minorgridcolor": "white",
             "startlinecolor": "#2a3f5f"
            },
            "type": "carpet"
           }
          ],
          "choropleth": [
           {
            "colorbar": {
             "outlinewidth": 0,
             "ticks": ""
            },
            "type": "choropleth"
           }
          ],
          "contour": [
           {
            "colorbar": {
             "outlinewidth": 0,
             "ticks": ""
            },
            "colorscale": [
             [
              0,
              "#0d0887"
             ],
             [
              0.1111111111111111,
              "#46039f"
             ],
             [
              0.2222222222222222,
              "#7201a8"
             ],
             [
              0.3333333333333333,
              "#9c179e"
             ],
             [
              0.4444444444444444,
              "#bd3786"
             ],
             [
              0.5555555555555556,
              "#d8576b"
             ],
             [
              0.6666666666666666,
              "#ed7953"
             ],
             [
              0.7777777777777778,
              "#fb9f3a"
             ],
             [
              0.8888888888888888,
              "#fdca26"
             ],
             [
              1,
              "#f0f921"
             ]
            ],
            "type": "contour"
           }
          ],
          "contourcarpet": [
           {
            "colorbar": {
             "outlinewidth": 0,
             "ticks": ""
            },
            "type": "contourcarpet"
           }
          ],
          "heatmap": [
           {
            "colorbar": {
             "outlinewidth": 0,
             "ticks": ""
            },
            "colorscale": [
             [
              0,
              "#0d0887"
             ],
             [
              0.1111111111111111,
              "#46039f"
             ],
             [
              0.2222222222222222,
              "#7201a8"
             ],
             [
              0.3333333333333333,
              "#9c179e"
             ],
             [
              0.4444444444444444,
              "#bd3786"
             ],
             [
              0.5555555555555556,
              "#d8576b"
             ],
             [
              0.6666666666666666,
              "#ed7953"
             ],
             [
              0.7777777777777778,
              "#fb9f3a"
             ],
             [
              0.8888888888888888,
              "#fdca26"
             ],
             [
              1,
              "#f0f921"
             ]
            ],
            "type": "heatmap"
           }
          ],
          "histogram": [
           {
            "marker": {
             "pattern": {
              "fillmode": "overlay",
              "size": 10,
              "solidity": 0.2
             }
            },
            "type": "histogram"
           }
          ],
          "histogram2d": [
           {
            "colorbar": {
             "outlinewidth": 0,
             "ticks": ""
            },
            "colorscale": [
             [
              0,
              "#0d0887"
             ],
             [
              0.1111111111111111,
              "#46039f"
             ],
             [
              0.2222222222222222,
              "#7201a8"
             ],
             [
              0.3333333333333333,
              "#9c179e"
             ],
             [
              0.4444444444444444,
              "#bd3786"
             ],
             [
              0.5555555555555556,
              "#d8576b"
             ],
             [
              0.6666666666666666,
              "#ed7953"
             ],
             [
              0.7777777777777778,
              "#fb9f3a"
             ],
             [
              0.8888888888888888,
              "#fdca26"
             ],
             [
              1,
              "#f0f921"
             ]
            ],
            "type": "histogram2d"
           }
          ],
          "histogram2dcontour": [
           {
            "colorbar": {
             "outlinewidth": 0,
             "ticks": ""
            },
            "colorscale": [
             [
              0,
              "#0d0887"
             ],
             [
              0.1111111111111111,
              "#46039f"
             ],
             [
              0.2222222222222222,
              "#7201a8"
             ],
             [
              0.3333333333333333,
              "#9c179e"
             ],
             [
              0.4444444444444444,
              "#bd3786"
             ],
             [
              0.5555555555555556,
              "#d8576b"
             ],
             [
              0.6666666666666666,
              "#ed7953"
             ],
             [
              0.7777777777777778,
              "#fb9f3a"
             ],
             [
              0.8888888888888888,
              "#fdca26"
             ],
             [
              1,
              "#f0f921"
             ]
            ],
            "type": "histogram2dcontour"
           }
          ],
          "mesh3d": [
           {
            "colorbar": {
             "outlinewidth": 0,
             "ticks": ""
            },
            "type": "mesh3d"
           }
          ],
          "parcoords": [
           {
            "line": {
             "colorbar": {
              "outlinewidth": 0,
              "ticks": ""
             }
            },
            "type": "parcoords"
           }
          ],
          "pie": [
           {
            "automargin": true,
            "type": "pie"
           }
          ],
          "scatter": [
           {
            "fillpattern": {
             "fillmode": "overlay",
             "size": 10,
             "solidity": 0.2
            },
            "type": "scatter"
           }
          ],
          "scatter3d": [
           {
            "line": {
             "colorbar": {
              "outlinewidth": 0,
              "ticks": ""
             }
            },
            "marker": {
             "colorbar": {
              "outlinewidth": 0,
              "ticks": ""
             }
            },
            "type": "scatter3d"
           }
          ],
          "scattercarpet": [
           {
            "marker": {
             "colorbar": {
              "outlinewidth": 0,
              "ticks": ""
             }
            },
            "type": "scattercarpet"
           }
          ],
          "scattergeo": [
           {
            "marker": {
             "colorbar": {
              "outlinewidth": 0,
              "ticks": ""
             }
            },
            "type": "scattergeo"
           }
          ],
          "scattergl": [
           {
            "marker": {
             "colorbar": {
              "outlinewidth": 0,
              "ticks": ""
             }
            },
            "type": "scattergl"
           }
          ],
          "scattermap": [
           {
            "marker": {
             "colorbar": {
              "outlinewidth": 0,
              "ticks": ""
             }
            },
            "type": "scattermap"
           }
          ],
          "scattermapbox": [
           {
            "marker": {
             "colorbar": {
              "outlinewidth": 0,
              "ticks": ""
             }
            },
            "type": "scattermapbox"
           }
          ],
          "scatterpolar": [
           {
            "marker": {
             "colorbar": {
              "outlinewidth": 0,
              "ticks": ""
             }
            },
            "type": "scatterpolar"
           }
          ],
          "scatterpolargl": [
           {
            "marker": {
             "colorbar": {
              "outlinewidth": 0,
              "ticks": ""
             }
            },
            "type": "scatterpolargl"
           }
          ],
          "scatterternary": [
           {
            "marker": {
             "colorbar": {
              "outlinewidth": 0,
              "ticks": ""
             }
            },
            "type": "scatterternary"
           }
          ],
          "surface": [
           {
            "colorbar": {
             "outlinewidth": 0,
             "ticks": ""
            },
            "colorscale": [
             [
              0,
              "#0d0887"
             ],
             [
              0.1111111111111111,
              "#46039f"
             ],
             [
              0.2222222222222222,
              "#7201a8"
             ],
             [
              0.3333333333333333,
              "#9c179e"
             ],
             [
              0.4444444444444444,
              "#bd3786"
             ],
             [
              0.5555555555555556,
              "#d8576b"
             ],
             [
              0.6666666666666666,
              "#ed7953"
             ],
             [
              0.7777777777777778,
              "#fb9f3a"
             ],
             [
              0.8888888888888888,
              "#fdca26"
             ],
             [
              1,
              "#f0f921"
             ]
            ],
            "type": "surface"
           }
          ],
          "table": [
           {
            "cells": {
             "fill": {
              "color": "#EBF0F8"
             },
             "line": {
              "color": "white"
             }
            },
            "header": {
             "fill": {
              "color": "#C8D4E3"
             },
             "line": {
              "color": "white"
             }
            },
            "type": "table"
           }
          ]
         },
         "layout": {
          "annotationdefaults": {
           "arrowcolor": "#2a3f5f",
           "arrowhead": 0,
           "arrowwidth": 1
          },
          "autotypenumbers": "strict",
          "coloraxis": {
           "colorbar": {
            "outlinewidth": 0,
            "ticks": ""
           }
          },
          "colorscale": {
           "diverging": [
            [
             0,
             "#8e0152"
            ],
            [
             0.1,
             "#c51b7d"
            ],
            [
             0.2,
             "#de77ae"
            ],
            [
             0.3,
             "#f1b6da"
            ],
            [
             0.4,
             "#fde0ef"
            ],
            [
             0.5,
             "#f7f7f7"
            ],
            [
             0.6,
             "#e6f5d0"
            ],
            [
             0.7,
             "#b8e186"
            ],
            [
             0.8,
             "#7fbc41"
            ],
            [
             0.9,
             "#4d9221"
            ],
            [
             1,
             "#276419"
            ]
           ],
           "sequential": [
            [
             0,
             "#0d0887"
            ],
            [
             0.1111111111111111,
             "#46039f"
            ],
            [
             0.2222222222222222,
             "#7201a8"
            ],
            [
             0.3333333333333333,
             "#9c179e"
            ],
            [
             0.4444444444444444,
             "#bd3786"
            ],
            [
             0.5555555555555556,
             "#d8576b"
            ],
            [
             0.6666666666666666,
             "#ed7953"
            ],
            [
             0.7777777777777778,
             "#fb9f3a"
            ],
            [
             0.8888888888888888,
             "#fdca26"
            ],
            [
             1,
             "#f0f921"
            ]
           ],
           "sequentialminus": [
            [
             0,
             "#0d0887"
            ],
            [
             0.1111111111111111,
             "#46039f"
            ],
            [
             0.2222222222222222,
             "#7201a8"
            ],
            [
             0.3333333333333333,
             "#9c179e"
            ],
            [
             0.4444444444444444,
             "#bd3786"
            ],
            [
             0.5555555555555556,
             "#d8576b"
            ],
            [
             0.6666666666666666,
             "#ed7953"
            ],
            [
             0.7777777777777778,
             "#fb9f3a"
            ],
            [
             0.8888888888888888,
             "#fdca26"
            ],
            [
             1,
             "#f0f921"
            ]
           ]
          },
          "colorway": [
           "#636efa",
           "#EF553B",
           "#00cc96",
           "#ab63fa",
           "#FFA15A",
           "#19d3f3",
           "#FF6692",
           "#B6E880",
           "#FF97FF",
           "#FECB52"
          ],
          "font": {
           "color": "#2a3f5f"
          },
          "geo": {
           "bgcolor": "white",
           "lakecolor": "white",
           "landcolor": "#E5ECF6",
           "showlakes": true,
           "showland": true,
           "subunitcolor": "white"
          },
          "hoverlabel": {
           "align": "left"
          },
          "hovermode": "closest",
          "mapbox": {
           "style": "light"
          },
          "paper_bgcolor": "white",
          "plot_bgcolor": "#E5ECF6",
          "polar": {
           "angularaxis": {
            "gridcolor": "white",
            "linecolor": "white",
            "ticks": ""
           },
           "bgcolor": "#E5ECF6",
           "radialaxis": {
            "gridcolor": "white",
            "linecolor": "white",
            "ticks": ""
           }
          },
          "scene": {
           "xaxis": {
            "backgroundcolor": "#E5ECF6",
            "gridcolor": "white",
            "gridwidth": 2,
            "linecolor": "white",
            "showbackground": true,
            "ticks": "",
            "zerolinecolor": "white"
           },
           "yaxis": {
            "backgroundcolor": "#E5ECF6",
            "gridcolor": "white",
            "gridwidth": 2,
            "linecolor": "white",
            "showbackground": true,
            "ticks": "",
            "zerolinecolor": "white"
           },
           "zaxis": {
            "backgroundcolor": "#E5ECF6",
            "gridcolor": "white",
            "gridwidth": 2,
            "linecolor": "white",
            "showbackground": true,
            "ticks": "",
            "zerolinecolor": "white"
           }
          },
          "shapedefaults": {
           "line": {
            "color": "#2a3f5f"
           }
          },
          "ternary": {
           "aaxis": {
            "gridcolor": "white",
            "linecolor": "white",
            "ticks": ""
           },
           "baxis": {
            "gridcolor": "white",
            "linecolor": "white",
            "ticks": ""
           },
           "bgcolor": "#E5ECF6",
           "caxis": {
            "gridcolor": "white",
            "linecolor": "white",
            "ticks": ""
           }
          },
          "title": {
           "x": 0.05
          },
          "xaxis": {
           "automargin": true,
           "gridcolor": "white",
           "linecolor": "white",
           "ticks": "",
           "title": {
            "standoff": 15
           },
           "zerolinecolor": "white",
           "zerolinewidth": 2
          },
          "yaxis": {
           "automargin": true,
           "gridcolor": "white",
           "linecolor": "white",
           "ticks": "",
           "title": {
            "standoff": 15
           },
           "zerolinecolor": "white",
           "zerolinewidth": 2
          }
         }
        },
        "title": {
         "text": "Top 10 Countries with Most Netflix Content"
        },
        "xaxis": {
         "anchor": "y",
         "domain": [
          0,
          1
         ],
         "title": {
          "text": "Country"
         }
        },
        "yaxis": {
         "anchor": "x",
         "domain": [
          0,
          1
         ],
         "title": {
          "text": "Number of Titles"
         }
        }
       }
      }
     },
     "metadata": {},
     "output_type": "display_data"
    }
   ],
   "source": [
    "top_countries = df['country'].value_counts().head(10)\n",
    "px.bar(\n",
    "    x=top_countries.index, \n",
    "    y=top_countries.values,\n",
    "    labels={'x': 'Country', 'y': 'Number of Titles'},\n",
    "    title='Top 10 Countries with Most Netflix Content'\n",
    ").show()"
   ]
  },
  {
   "cell_type": "markdown",
   "id": "caecb0e1",
   "metadata": {},
   "source": [
    "Top 10 Most Common Genres on Netflix"
   ]
  },
  {
   "cell_type": "code",
   "execution_count": 26,
   "id": "1fa9f853",
   "metadata": {},
   "outputs": [
    {
     "data": {
      "application/vnd.plotly.v1+json": {
       "config": {
        "plotlyServerURL": "https://plot.ly"
       },
       "data": [
        {
         "hovertemplate": "Genre=%{x}<br>Number of Titles=%{y}<extra></extra>",
         "legendgroup": "",
         "marker": {
          "color": "#636efa",
          "pattern": {
           "shape": ""
          }
         },
         "name": "",
         "orientation": "v",
         "showlegend": false,
         "textposition": "auto",
         "type": "bar",
         "x": [
          "International Movies",
          "Dramas",
          "Comedies",
          "International TV Shows",
          "Documentaries",
          "Action & Adventure",
          "TV Dramas",
          "Independent Movies",
          "Children & Family Movies",
          "Romantic Movies"
         ],
         "xaxis": "x",
         "y": {
          "bdata": "wAp7CYoGRwVlA1sD+wL0AoECaAI=",
          "dtype": "i2"
         },
         "yaxis": "y"
        }
       ],
       "layout": {
        "barmode": "relative",
        "legend": {
         "tracegroupgap": 0
        },
        "template": {
         "data": {
          "bar": [
           {
            "error_x": {
             "color": "#2a3f5f"
            },
            "error_y": {
             "color": "#2a3f5f"
            },
            "marker": {
             "line": {
              "color": "#E5ECF6",
              "width": 0.5
             },
             "pattern": {
              "fillmode": "overlay",
              "size": 10,
              "solidity": 0.2
             }
            },
            "type": "bar"
           }
          ],
          "barpolar": [
           {
            "marker": {
             "line": {
              "color": "#E5ECF6",
              "width": 0.5
             },
             "pattern": {
              "fillmode": "overlay",
              "size": 10,
              "solidity": 0.2
             }
            },
            "type": "barpolar"
           }
          ],
          "carpet": [
           {
            "aaxis": {
             "endlinecolor": "#2a3f5f",
             "gridcolor": "white",
             "linecolor": "white",
             "minorgridcolor": "white",
             "startlinecolor": "#2a3f5f"
            },
            "baxis": {
             "endlinecolor": "#2a3f5f",
             "gridcolor": "white",
             "linecolor": "white",
             "minorgridcolor": "white",
             "startlinecolor": "#2a3f5f"
            },
            "type": "carpet"
           }
          ],
          "choropleth": [
           {
            "colorbar": {
             "outlinewidth": 0,
             "ticks": ""
            },
            "type": "choropleth"
           }
          ],
          "contour": [
           {
            "colorbar": {
             "outlinewidth": 0,
             "ticks": ""
            },
            "colorscale": [
             [
              0,
              "#0d0887"
             ],
             [
              0.1111111111111111,
              "#46039f"
             ],
             [
              0.2222222222222222,
              "#7201a8"
             ],
             [
              0.3333333333333333,
              "#9c179e"
             ],
             [
              0.4444444444444444,
              "#bd3786"
             ],
             [
              0.5555555555555556,
              "#d8576b"
             ],
             [
              0.6666666666666666,
              "#ed7953"
             ],
             [
              0.7777777777777778,
              "#fb9f3a"
             ],
             [
              0.8888888888888888,
              "#fdca26"
             ],
             [
              1,
              "#f0f921"
             ]
            ],
            "type": "contour"
           }
          ],
          "contourcarpet": [
           {
            "colorbar": {
             "outlinewidth": 0,
             "ticks": ""
            },
            "type": "contourcarpet"
           }
          ],
          "heatmap": [
           {
            "colorbar": {
             "outlinewidth": 0,
             "ticks": ""
            },
            "colorscale": [
             [
              0,
              "#0d0887"
             ],
             [
              0.1111111111111111,
              "#46039f"
             ],
             [
              0.2222222222222222,
              "#7201a8"
             ],
             [
              0.3333333333333333,
              "#9c179e"
             ],
             [
              0.4444444444444444,
              "#bd3786"
             ],
             [
              0.5555555555555556,
              "#d8576b"
             ],
             [
              0.6666666666666666,
              "#ed7953"
             ],
             [
              0.7777777777777778,
              "#fb9f3a"
             ],
             [
              0.8888888888888888,
              "#fdca26"
             ],
             [
              1,
              "#f0f921"
             ]
            ],
            "type": "heatmap"
           }
          ],
          "histogram": [
           {
            "marker": {
             "pattern": {
              "fillmode": "overlay",
              "size": 10,
              "solidity": 0.2
             }
            },
            "type": "histogram"
           }
          ],
          "histogram2d": [
           {
            "colorbar": {
             "outlinewidth": 0,
             "ticks": ""
            },
            "colorscale": [
             [
              0,
              "#0d0887"
             ],
             [
              0.1111111111111111,
              "#46039f"
             ],
             [
              0.2222222222222222,
              "#7201a8"
             ],
             [
              0.3333333333333333,
              "#9c179e"
             ],
             [
              0.4444444444444444,
              "#bd3786"
             ],
             [
              0.5555555555555556,
              "#d8576b"
             ],
             [
              0.6666666666666666,
              "#ed7953"
             ],
             [
              0.7777777777777778,
              "#fb9f3a"
             ],
             [
              0.8888888888888888,
              "#fdca26"
             ],
             [
              1,
              "#f0f921"
             ]
            ],
            "type": "histogram2d"
           }
          ],
          "histogram2dcontour": [
           {
            "colorbar": {
             "outlinewidth": 0,
             "ticks": ""
            },
            "colorscale": [
             [
              0,
              "#0d0887"
             ],
             [
              0.1111111111111111,
              "#46039f"
             ],
             [
              0.2222222222222222,
              "#7201a8"
             ],
             [
              0.3333333333333333,
              "#9c179e"
             ],
             [
              0.4444444444444444,
              "#bd3786"
             ],
             [
              0.5555555555555556,
              "#d8576b"
             ],
             [
              0.6666666666666666,
              "#ed7953"
             ],
             [
              0.7777777777777778,
              "#fb9f3a"
             ],
             [
              0.8888888888888888,
              "#fdca26"
             ],
             [
              1,
              "#f0f921"
             ]
            ],
            "type": "histogram2dcontour"
           }
          ],
          "mesh3d": [
           {
            "colorbar": {
             "outlinewidth": 0,
             "ticks": ""
            },
            "type": "mesh3d"
           }
          ],
          "parcoords": [
           {
            "line": {
             "colorbar": {
              "outlinewidth": 0,
              "ticks": ""
             }
            },
            "type": "parcoords"
           }
          ],
          "pie": [
           {
            "automargin": true,
            "type": "pie"
           }
          ],
          "scatter": [
           {
            "fillpattern": {
             "fillmode": "overlay",
             "size": 10,
             "solidity": 0.2
            },
            "type": "scatter"
           }
          ],
          "scatter3d": [
           {
            "line": {
             "colorbar": {
              "outlinewidth": 0,
              "ticks": ""
             }
            },
            "marker": {
             "colorbar": {
              "outlinewidth": 0,
              "ticks": ""
             }
            },
            "type": "scatter3d"
           }
          ],
          "scattercarpet": [
           {
            "marker": {
             "colorbar": {
              "outlinewidth": 0,
              "ticks": ""
             }
            },
            "type": "scattercarpet"
           }
          ],
          "scattergeo": [
           {
            "marker": {
             "colorbar": {
              "outlinewidth": 0,
              "ticks": ""
             }
            },
            "type": "scattergeo"
           }
          ],
          "scattergl": [
           {
            "marker": {
             "colorbar": {
              "outlinewidth": 0,
              "ticks": ""
             }
            },
            "type": "scattergl"
           }
          ],
          "scattermap": [
           {
            "marker": {
             "colorbar": {
              "outlinewidth": 0,
              "ticks": ""
             }
            },
            "type": "scattermap"
           }
          ],
          "scattermapbox": [
           {
            "marker": {
             "colorbar": {
              "outlinewidth": 0,
              "ticks": ""
             }
            },
            "type": "scattermapbox"
           }
          ],
          "scatterpolar": [
           {
            "marker": {
             "colorbar": {
              "outlinewidth": 0,
              "ticks": ""
             }
            },
            "type": "scatterpolar"
           }
          ],
          "scatterpolargl": [
           {
            "marker": {
             "colorbar": {
              "outlinewidth": 0,
              "ticks": ""
             }
            },
            "type": "scatterpolargl"
           }
          ],
          "scatterternary": [
           {
            "marker": {
             "colorbar": {
              "outlinewidth": 0,
              "ticks": ""
             }
            },
            "type": "scatterternary"
           }
          ],
          "surface": [
           {
            "colorbar": {
             "outlinewidth": 0,
             "ticks": ""
            },
            "colorscale": [
             [
              0,
              "#0d0887"
             ],
             [
              0.1111111111111111,
              "#46039f"
             ],
             [
              0.2222222222222222,
              "#7201a8"
             ],
             [
              0.3333333333333333,
              "#9c179e"
             ],
             [
              0.4444444444444444,
              "#bd3786"
             ],
             [
              0.5555555555555556,
              "#d8576b"
             ],
             [
              0.6666666666666666,
              "#ed7953"
             ],
             [
              0.7777777777777778,
              "#fb9f3a"
             ],
             [
              0.8888888888888888,
              "#fdca26"
             ],
             [
              1,
              "#f0f921"
             ]
            ],
            "type": "surface"
           }
          ],
          "table": [
           {
            "cells": {
             "fill": {
              "color": "#EBF0F8"
             },
             "line": {
              "color": "white"
             }
            },
            "header": {
             "fill": {
              "color": "#C8D4E3"
             },
             "line": {
              "color": "white"
             }
            },
            "type": "table"
           }
          ]
         },
         "layout": {
          "annotationdefaults": {
           "arrowcolor": "#2a3f5f",
           "arrowhead": 0,
           "arrowwidth": 1
          },
          "autotypenumbers": "strict",
          "coloraxis": {
           "colorbar": {
            "outlinewidth": 0,
            "ticks": ""
           }
          },
          "colorscale": {
           "diverging": [
            [
             0,
             "#8e0152"
            ],
            [
             0.1,
             "#c51b7d"
            ],
            [
             0.2,
             "#de77ae"
            ],
            [
             0.3,
             "#f1b6da"
            ],
            [
             0.4,
             "#fde0ef"
            ],
            [
             0.5,
             "#f7f7f7"
            ],
            [
             0.6,
             "#e6f5d0"
            ],
            [
             0.7,
             "#b8e186"
            ],
            [
             0.8,
             "#7fbc41"
            ],
            [
             0.9,
             "#4d9221"
            ],
            [
             1,
             "#276419"
            ]
           ],
           "sequential": [
            [
             0,
             "#0d0887"
            ],
            [
             0.1111111111111111,
             "#46039f"
            ],
            [
             0.2222222222222222,
             "#7201a8"
            ],
            [
             0.3333333333333333,
             "#9c179e"
            ],
            [
             0.4444444444444444,
             "#bd3786"
            ],
            [
             0.5555555555555556,
             "#d8576b"
            ],
            [
             0.6666666666666666,
             "#ed7953"
            ],
            [
             0.7777777777777778,
             "#fb9f3a"
            ],
            [
             0.8888888888888888,
             "#fdca26"
            ],
            [
             1,
             "#f0f921"
            ]
           ],
           "sequentialminus": [
            [
             0,
             "#0d0887"
            ],
            [
             0.1111111111111111,
             "#46039f"
            ],
            [
             0.2222222222222222,
             "#7201a8"
            ],
            [
             0.3333333333333333,
             "#9c179e"
            ],
            [
             0.4444444444444444,
             "#bd3786"
            ],
            [
             0.5555555555555556,
             "#d8576b"
            ],
            [
             0.6666666666666666,
             "#ed7953"
            ],
            [
             0.7777777777777778,
             "#fb9f3a"
            ],
            [
             0.8888888888888888,
             "#fdca26"
            ],
            [
             1,
             "#f0f921"
            ]
           ]
          },
          "colorway": [
           "#636efa",
           "#EF553B",
           "#00cc96",
           "#ab63fa",
           "#FFA15A",
           "#19d3f3",
           "#FF6692",
           "#B6E880",
           "#FF97FF",
           "#FECB52"
          ],
          "font": {
           "color": "#2a3f5f"
          },
          "geo": {
           "bgcolor": "white",
           "lakecolor": "white",
           "landcolor": "#E5ECF6",
           "showlakes": true,
           "showland": true,
           "subunitcolor": "white"
          },
          "hoverlabel": {
           "align": "left"
          },
          "hovermode": "closest",
          "mapbox": {
           "style": "light"
          },
          "paper_bgcolor": "white",
          "plot_bgcolor": "#E5ECF6",
          "polar": {
           "angularaxis": {
            "gridcolor": "white",
            "linecolor": "white",
            "ticks": ""
           },
           "bgcolor": "#E5ECF6",
           "radialaxis": {
            "gridcolor": "white",
            "linecolor": "white",
            "ticks": ""
           }
          },
          "scene": {
           "xaxis": {
            "backgroundcolor": "#E5ECF6",
            "gridcolor": "white",
            "gridwidth": 2,
            "linecolor": "white",
            "showbackground": true,
            "ticks": "",
            "zerolinecolor": "white"
           },
           "yaxis": {
            "backgroundcolor": "#E5ECF6",
            "gridcolor": "white",
            "gridwidth": 2,
            "linecolor": "white",
            "showbackground": true,
            "ticks": "",
            "zerolinecolor": "white"
           },
           "zaxis": {
            "backgroundcolor": "#E5ECF6",
            "gridcolor": "white",
            "gridwidth": 2,
            "linecolor": "white",
            "showbackground": true,
            "ticks": "",
            "zerolinecolor": "white"
           }
          },
          "shapedefaults": {
           "line": {
            "color": "#2a3f5f"
           }
          },
          "ternary": {
           "aaxis": {
            "gridcolor": "white",
            "linecolor": "white",
            "ticks": ""
           },
           "baxis": {
            "gridcolor": "white",
            "linecolor": "white",
            "ticks": ""
           },
           "bgcolor": "#E5ECF6",
           "caxis": {
            "gridcolor": "white",
            "linecolor": "white",
            "ticks": ""
           }
          },
          "title": {
           "x": 0.05
          },
          "xaxis": {
           "automargin": true,
           "gridcolor": "white",
           "linecolor": "white",
           "ticks": "",
           "title": {
            "standoff": 15
           },
           "zerolinecolor": "white",
           "zerolinewidth": 2
          },
          "yaxis": {
           "automargin": true,
           "gridcolor": "white",
           "linecolor": "white",
           "ticks": "",
           "title": {
            "standoff": 15
           },
           "zerolinecolor": "white",
           "zerolinewidth": 2
          }
         }
        },
        "title": {
         "text": "Top 10 Most Common Genres on Netflix"
        },
        "xaxis": {
         "anchor": "y",
         "domain": [
          0,
          1
         ],
         "title": {
          "text": "Genre"
         }
        },
        "yaxis": {
         "anchor": "x",
         "domain": [
          0,
          1
         ],
         "title": {
          "text": "Number of Titles"
         }
        }
       }
      }
     },
     "metadata": {},
     "output_type": "display_data"
    }
   ],
   "source": [
    "from collections import Counter\n",
    "\n",
    "# Splitting the 'listed_in' genres and flattening the list\n",
    "genres_split = df['listed_in'].dropna().apply(lambda x: x.split(', '))\n",
    "genre_list = [genre for sublist in genres_split for genre in sublist]\n",
    "\n",
    "# Counting and selecting the top 10 genres\n",
    "top_genres = pd.Series(Counter(genre_list)).sort_values(ascending=False).head(10)\n",
    "\n",
    "# Plotting the top genres\n",
    "import plotly.express as px\n",
    "px.bar(\n",
    "    x=top_genres.index, \n",
    "    y=top_genres.values,\n",
    "    labels={'x': 'Genre', 'y': 'Number of Titles'},\n",
    "    title='Top 10 Most Common Genres on Netflix'\n",
    ").show()\n",
    "\n"
   ]
  },
  {
   "cell_type": "markdown",
   "id": "ba82f645",
   "metadata": {},
   "source": [
    "Duration Distribution (Movies Only)"
   ]
  },
  {
   "cell_type": "code",
   "execution_count": 27,
   "id": "3aeff5a9",
   "metadata": {},
   "outputs": [
    {
     "data": {
      "application/vnd.plotly.v1+json": {
       "config": {
        "plotlyServerURL": "https://plot.ly"
       },
       "data": [
        {
         "alignmentgroup": "True",
         "hovertemplate": "duration_mins=%{y}<extra></extra>",
         "legendgroup": "",
         "marker": {
          "color": "#636efa"
         },
         "name": "",
         "notched": false,
         "offsetgroup": "",
         "orientation": "v",
         "showlegend": false,
         "type": "box",
         "x0": " ",
         "xaxis": "x",
         "y": {
          "bdata": "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",
          "dtype": "f8"
         },
         "y0": " ",
         "yaxis": "y"
        }
       ],
       "layout": {
        "boxmode": "group",
        "legend": {
         "tracegroupgap": 0
        },
        "template": {
         "data": {
          "bar": [
           {
            "error_x": {
             "color": "#2a3f5f"
            },
            "error_y": {
             "color": "#2a3f5f"
            },
            "marker": {
             "line": {
              "color": "#E5ECF6",
              "width": 0.5
             },
             "pattern": {
              "fillmode": "overlay",
              "size": 10,
              "solidity": 0.2
             }
            },
            "type": "bar"
           }
          ],
          "barpolar": [
           {
            "marker": {
             "line": {
              "color": "#E5ECF6",
              "width": 0.5
             },
             "pattern": {
              "fillmode": "overlay",
              "size": 10,
              "solidity": 0.2
             }
            },
            "type": "barpolar"
           }
          ],
          "carpet": [
           {
            "aaxis": {
             "endlinecolor": "#2a3f5f",
             "gridcolor": "white",
             "linecolor": "white",
             "minorgridcolor": "white",
             "startlinecolor": "#2a3f5f"
            },
            "baxis": {
             "endlinecolor": "#2a3f5f",
             "gridcolor": "white",
             "linecolor": "white",
             "minorgridcolor": "white",
             "startlinecolor": "#2a3f5f"
            },
            "type": "carpet"
           }
          ],
          "choropleth": [
           {
            "colorbar": {
             "outlinewidth": 0,
             "ticks": ""
            },
            "type": "choropleth"
           }
          ],
          "contour": [
           {
            "colorbar": {
             "outlinewidth": 0,
             "ticks": ""
            },
            "colorscale": [
             [
              0,
              "#0d0887"
             ],
             [
              0.1111111111111111,
              "#46039f"
             ],
             [
              0.2222222222222222,
              "#7201a8"
             ],
             [
              0.3333333333333333,
              "#9c179e"
             ],
             [
              0.4444444444444444,
              "#bd3786"
             ],
             [
              0.5555555555555556,
              "#d8576b"
             ],
             [
              0.6666666666666666,
              "#ed7953"
             ],
             [
              0.7777777777777778,
              "#fb9f3a"
             ],
             [
              0.8888888888888888,
              "#fdca26"
             ],
             [
              1,
              "#f0f921"
             ]
            ],
            "type": "contour"
           }
          ],
          "contourcarpet": [
           {
            "colorbar": {
             "outlinewidth": 0,
             "ticks": ""
            },
            "type": "contourcarpet"
           }
          ],
          "heatmap": [
           {
            "colorbar": {
             "outlinewidth": 0,
             "ticks": ""
            },
            "colorscale": [
             [
              0,
              "#0d0887"
             ],
             [
              0.1111111111111111,
              "#46039f"
             ],
             [
              0.2222222222222222,
              "#7201a8"
             ],
             [
              0.3333333333333333,
              "#9c179e"
             ],
             [
              0.4444444444444444,
              "#bd3786"
             ],
             [
              0.5555555555555556,
              "#d8576b"
             ],
             [
              0.6666666666666666,
              "#ed7953"
             ],
             [
              0.7777777777777778,
              "#fb9f3a"
             ],
             [
              0.8888888888888888,
              "#fdca26"
             ],
             [
              1,
              "#f0f921"
             ]
            ],
            "type": "heatmap"
           }
          ],
          "histogram": [
           {
            "marker": {
             "pattern": {
              "fillmode": "overlay",
              "size": 10,
              "solidity": 0.2
             }
            },
            "type": "histogram"
           }
          ],
          "histogram2d": [
           {
            "colorbar": {
             "outlinewidth": 0,
             "ticks": ""
            },
            "colorscale": [
             [
              0,
              "#0d0887"
             ],
             [
              0.1111111111111111,
              "#46039f"
             ],
             [
              0.2222222222222222,
              "#7201a8"
             ],
             [
              0.3333333333333333,
              "#9c179e"
             ],
             [
              0.4444444444444444,
              "#bd3786"
             ],
             [
              0.5555555555555556,
              "#d8576b"
             ],
             [
              0.6666666666666666,
              "#ed7953"
             ],
             [
              0.7777777777777778,
              "#fb9f3a"
             ],
             [
              0.8888888888888888,
              "#fdca26"
             ],
             [
              1,
              "#f0f921"
             ]
            ],
            "type": "histogram2d"
           }
          ],
          "histogram2dcontour": [
           {
            "colorbar": {
             "outlinewidth": 0,
             "ticks": ""
            },
            "colorscale": [
             [
              0,
              "#0d0887"
             ],
             [
              0.1111111111111111,
              "#46039f"
             ],
             [
              0.2222222222222222,
              "#7201a8"
             ],
             [
              0.3333333333333333,
              "#9c179e"
             ],
             [
              0.4444444444444444,
              "#bd3786"
             ],
             [
              0.5555555555555556,
              "#d8576b"
             ],
             [
              0.6666666666666666,
              "#ed7953"
             ],
             [
              0.7777777777777778,
              "#fb9f3a"
             ],
             [
              0.8888888888888888,
              "#fdca26"
             ],
             [
              1,
              "#f0f921"
             ]
            ],
            "type": "histogram2dcontour"
           }
          ],
          "mesh3d": [
           {
            "colorbar": {
             "outlinewidth": 0,
             "ticks": ""
            },
            "type": "mesh3d"
           }
          ],
          "parcoords": [
           {
            "line": {
             "colorbar": {
              "outlinewidth": 0,
              "ticks": ""
             }
            },
            "type": "parcoords"
           }
          ],
          "pie": [
           {
            "automargin": true,
            "type": "pie"
           }
          ],
          "scatter": [
           {
            "fillpattern": {
             "fillmode": "overlay",
             "size": 10,
             "solidity": 0.2
            },
            "type": "scatter"
           }
          ],
          "scatter3d": [
           {
            "line": {
             "colorbar": {
              "outlinewidth": 0,
              "ticks": ""
             }
            },
            "marker": {
             "colorbar": {
              "outlinewidth": 0,
              "ticks": ""
             }
            },
            "type": "scatter3d"
           }
          ],
          "scattercarpet": [
           {
            "marker": {
             "colorbar": {
              "outlinewidth": 0,
              "ticks": ""
             }
            },
            "type": "scattercarpet"
           }
          ],
          "scattergeo": [
           {
            "marker": {
             "colorbar": {
              "outlinewidth": 0,
              "ticks": ""
             }
            },
            "type": "scattergeo"
           }
          ],
          "scattergl": [
           {
            "marker": {
             "colorbar": {
              "outlinewidth": 0,
              "ticks": ""
             }
            },
            "type": "scattergl"
           }
          ],
          "scattermap": [
           {
            "marker": {
             "colorbar": {
              "outlinewidth": 0,
              "ticks": ""
             }
            },
            "type": "scattermap"
           }
          ],
          "scattermapbox": [
           {
            "marker": {
             "colorbar": {
              "outlinewidth": 0,
              "ticks": ""
             }
            },
            "type": "scattermapbox"
           }
          ],
          "scatterpolar": [
           {
            "marker": {
             "colorbar": {
              "outlinewidth": 0,
              "ticks": ""
             }
            },
            "type": "scatterpolar"
           }
          ],
          "scatterpolargl": [
           {
            "marker": {
             "colorbar": {
              "outlinewidth": 0,
              "ticks": ""
             }
            },
            "type": "scatterpolargl"
           }
          ],
          "scatterternary": [
           {
            "marker": {
             "colorbar": {
              "outlinewidth": 0,
              "ticks": ""
             }
            },
            "type": "scatterternary"
           }
          ],
          "surface": [
           {
            "colorbar": {
             "outlinewidth": 0,
             "ticks": ""
            },
            "colorscale": [
             [
              0,
              "#0d0887"
             ],
             [
              0.1111111111111111,
              "#46039f"
             ],
             [
              0.2222222222222222,
              "#7201a8"
             ],
             [
              0.3333333333333333,
              "#9c179e"
             ],
             [
              0.4444444444444444,
              "#bd3786"
             ],
             [
              0.5555555555555556,
              "#d8576b"
             ],
             [
              0.6666666666666666,
              "#ed7953"
             ],
             [
              0.7777777777777778,
              "#fb9f3a"
             ],
             [
              0.8888888888888888,
              "#fdca26"
             ],
             [
              1,
              "#f0f921"
             ]
            ],
            "type": "surface"
           }
          ],
          "table": [
           {
            "cells": {
             "fill": {
              "color": "#EBF0F8"
             },
             "line": {
              "color": "white"
             }
            },
            "header": {
             "fill": {
              "color": "#C8D4E3"
             },
             "line": {
              "color": "white"
             }
            },
            "type": "table"
           }
          ]
         },
         "layout": {
          "annotationdefaults": {
           "arrowcolor": "#2a3f5f",
           "arrowhead": 0,
           "arrowwidth": 1
          },
          "autotypenumbers": "strict",
          "coloraxis": {
           "colorbar": {
            "outlinewidth": 0,
            "ticks": ""
           }
          },
          "colorscale": {
           "diverging": [
            [
             0,
             "#8e0152"
            ],
            [
             0.1,
             "#c51b7d"
            ],
            [
             0.2,
             "#de77ae"
            ],
            [
             0.3,
             "#f1b6da"
            ],
            [
             0.4,
             "#fde0ef"
            ],
            [
             0.5,
             "#f7f7f7"
            ],
            [
             0.6,
             "#e6f5d0"
            ],
            [
             0.7,
             "#b8e186"
            ],
            [
             0.8,
             "#7fbc41"
            ],
            [
             0.9,
             "#4d9221"
            ],
            [
             1,
             "#276419"
            ]
           ],
           "sequential": [
            [
             0,
             "#0d0887"
            ],
            [
             0.1111111111111111,
             "#46039f"
            ],
            [
             0.2222222222222222,
             "#7201a8"
            ],
            [
             0.3333333333333333,
             "#9c179e"
            ],
            [
             0.4444444444444444,
             "#bd3786"
            ],
            [
             0.5555555555555556,
             "#d8576b"
            ],
            [
             0.6666666666666666,
             "#ed7953"
            ],
            [
             0.7777777777777778,
             "#fb9f3a"
            ],
            [
             0.8888888888888888,
             "#fdca26"
            ],
            [
             1,
             "#f0f921"
            ]
           ],
           "sequentialminus": [
            [
             0,
             "#0d0887"
            ],
            [
             0.1111111111111111,
             "#46039f"
            ],
            [
             0.2222222222222222,
             "#7201a8"
            ],
            [
             0.3333333333333333,
             "#9c179e"
            ],
            [
             0.4444444444444444,
             "#bd3786"
            ],
            [
             0.5555555555555556,
             "#d8576b"
            ],
            [
             0.6666666666666666,
             "#ed7953"
            ],
            [
             0.7777777777777778,
             "#fb9f3a"
            ],
            [
             0.8888888888888888,
             "#fdca26"
            ],
            [
             1,
             "#f0f921"
            ]
           ]
          },
          "colorway": [
           "#636efa",
           "#EF553B",
           "#00cc96",
           "#ab63fa",
           "#FFA15A",
           "#19d3f3",
           "#FF6692",
           "#B6E880",
           "#FF97FF",
           "#FECB52"
          ],
          "font": {
           "color": "#2a3f5f"
          },
          "geo": {
           "bgcolor": "white",
           "lakecolor": "white",
           "landcolor": "#E5ECF6",
           "showlakes": true,
           "showland": true,
           "subunitcolor": "white"
          },
          "hoverlabel": {
           "align": "left"
          },
          "hovermode": "closest",
          "mapbox": {
           "style": "light"
          },
          "paper_bgcolor": "white",
          "plot_bgcolor": "#E5ECF6",
          "polar": {
           "angularaxis": {
            "gridcolor": "white",
            "linecolor": "white",
            "ticks": ""
           },
           "bgcolor": "#E5ECF6",
           "radialaxis": {
            "gridcolor": "white",
            "linecolor": "white",
            "ticks": ""
           }
          },
          "scene": {
           "xaxis": {
            "backgroundcolor": "#E5ECF6",
            "gridcolor": "white",
            "gridwidth": 2,
            "linecolor": "white",
            "showbackground": true,
            "ticks": "",
            "zerolinecolor": "white"
           },
           "yaxis": {
            "backgroundcolor": "#E5ECF6",
            "gridcolor": "white",
            "gridwidth": 2,
            "linecolor": "white",
            "showbackground": true,
            "ticks": "",
            "zerolinecolor": "white"
           },
           "zaxis": {
            "backgroundcolor": "#E5ECF6",
            "gridcolor": "white",
            "gridwidth": 2,
            "linecolor": "white",
            "showbackground": true,
            "ticks": "",
            "zerolinecolor": "white"
           }
          },
          "shapedefaults": {
           "line": {
            "color": "#2a3f5f"
           }
          },
          "ternary": {
           "aaxis": {
            "gridcolor": "white",
            "linecolor": "white",
            "ticks": ""
           },
           "baxis": {
            "gridcolor": "white",
            "linecolor": "white",
            "ticks": ""
           },
           "bgcolor": "#E5ECF6",
           "caxis": {
            "gridcolor": "white",
            "linecolor": "white",
            "ticks": ""
           }
          },
          "title": {
           "x": 0.05
          },
          "xaxis": {
           "automargin": true,
           "gridcolor": "white",
           "linecolor": "white",
           "ticks": "",
           "title": {
            "standoff": 15
           },
           "zerolinecolor": "white",
           "zerolinewidth": 2
          },
          "yaxis": {
           "automargin": true,
           "gridcolor": "white",
           "linecolor": "white",
           "ticks": "",
           "title": {
            "standoff": 15
           },
           "zerolinecolor": "white",
           "zerolinewidth": 2
          }
         }
        },
        "title": {
         "text": "Distribution of Movie Durations (in minutes)"
        },
        "xaxis": {
         "anchor": "y",
         "domain": [
          0,
          1
         ]
        },
        "yaxis": {
         "anchor": "x",
         "domain": [
          0,
          1
         ],
         "title": {
          "text": "duration_mins"
         }
        }
       }
      }
     },
     "metadata": {},
     "output_type": "display_data"
    }
   ],
   "source": [
    "\n",
    "df_movies = df[df['type'] == 'Movie'].copy()\n",
    "df_movies['duration_mins'] = df_movies['duration'].str.extract(r'(\\d+)').astype(float)\n",
    "fig2 = px.box(df_movies, y='duration_mins', title='Distribution of Movie Durations (in minutes)')\n",
    "fig2.show()"
   ]
  }
 ],
 "metadata": {
  "kernelspec": {
   "display_name": "Python 3",
   "language": "python",
   "name": "python3"
  },
  "language_info": {
   "codemirror_mode": {
    "name": "ipython",
    "version": 3
   },
   "file_extension": ".py",
   "mimetype": "text/x-python",
   "name": "python",
   "nbconvert_exporter": "python",
   "pygments_lexer": "ipython3",
   "version": "3.10.0"
  }
 },
 "nbformat": 4,
 "nbformat_minor": 5
}
